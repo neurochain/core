{
 "cells": [
  {
   "cell_type": "code",
   "execution_count": 1,
   "metadata": {
    "ExecuteTime": {
     "end_time": "2019-05-14T09:31:20.586332Z",
     "start_time": "2019-05-14T09:31:20.526200Z"
    }
   },
   "outputs": [],
   "source": [
    "import pymongo\n",
    "from collections import Counter"
   ]
  },
  {
   "cell_type": "code",
   "execution_count": 2,
   "metadata": {
    "ExecuteTime": {
     "end_time": "2019-05-14T09:31:20.906375Z",
     "start_time": "2019-05-14T09:31:20.901371Z"
    }
   },
   "outputs": [],
   "source": [
    "c = pymongo.MongoClient()"
   ]
  },
  {
   "cell_type": "code",
   "execution_count": 3,
   "metadata": {
    "ExecuteTime": {
     "end_time": "2019-05-14T09:31:21.323319Z",
     "start_time": "2019-05-14T09:31:21.318575Z"
    }
   },
   "outputs": [],
   "source": [
    "db0 = c.neuro1337\n",
    "db1 = c.neuro1338\n",
    "db2 = c.neuro1339"
   ]
  },
  {
   "cell_type": "code",
   "execution_count": 4,
   "metadata": {
    "ExecuteTime": {
     "end_time": "2019-05-14T09:31:21.958886Z",
     "start_time": "2019-05-14T09:31:21.939254Z"
    }
   },
   "outputs": [],
   "source": [
    "class CoolDict(dict):\n",
    "    def __getattr__(self, name):\n",
    "        attr = self[name]\n",
    "        if type(attr) == dict:\n",
    "            return CoolDict(attr)\n",
    "        return attr\n",
    "\n",
    "\n",
    "class Block(CoolDict):\n",
    "    def __init__(self, arg, db=db0):\n",
    "        self.db = db\n",
    "        if type(arg) == dict:\n",
    "            super().__init__(arg)\n",
    "        elif type(arg) == str:\n",
    "            super().__init__(db.blocks.find_one({\"block.header.id.data\": arg}))\n",
    "        elif type(arg) == int:\n",
    "            super().__init__(db.blocks.find_one({\"block.header.height\": arg}))\n",
    "\n",
    "    @property\n",
    "    def previousAssembly(self):\n",
    "        return Assembly(self.previousAssemblyId.data, db=self.db)\n",
    "\n",
    "    @property\n",
    "    def transactions(self):\n",
    "        result = []\n",
    "        for t in self.db.transactions.find(\n",
    "            {\"blockId.data\": self.block.header.id.data, \"isCoinbase\": False}\n",
    "        ):\n",
    "            result.append(Transaction(t))\n",
    "        return result\n",
    "\n",
    "    @property\n",
    "    def coinbase(self):\n",
    "        return Transaction(\n",
    "            self.db.transactions.find_one(\n",
    "                {\"blockId.data\": self.block.header.id.data, \"isCoinbase\": True}\n",
    "            )\n",
    "        )\n",
    "\n",
    "\n",
    "class Assembly(CoolDict):\n",
    "    def __init__(self, arg, db=db0):\n",
    "        self.db = db\n",
    "        if type(arg) == str:\n",
    "            super().__init__(db.assemblies.find_one({\"id.data\": arg}))\n",
    "        elif type(arg) == int:\n",
    "            super().__init__(db.assemblies.find_one({\"height\": arg}))\n",
    "\n",
    "    @property\n",
    "    def previousAssembly(self):\n",
    "        return Assembly(self.previousAssemblyId.data, db=self.db)\n",
    "\n",
    "\n",
    "class Transaction(CoolDict):\n",
    "    def __init__(self, arg, db=db0, pool=True):\n",
    "        self.db = db\n",
    "        if type(arg) == dict:\n",
    "            super().__init__(arg)\n",
    "        else:\n",
    "            query = {\"transaction.id.data\": arg}\n",
    "            if not pool:\n",
    "                query[\"blockId\"] = {\"$exists\": True}\n",
    "            super().__init__(db.transactions.find_one(query))\n",
    "\n",
    "    @property\n",
    "    def block(self):\n",
    "        return Block(self.blockId.data, db=self.db)\n",
    "\n",
    "\n",
    "class CoolList(list):\n",
    "    def __getattr__(self, name):\n",
    "        return CoolList(getattr(x, name) for x in self)\n",
    "\n",
    "\n",
    "class Transactions(CoolList):\n",
    "    def __init__(self, arg=None, db=db0, pool=True):\n",
    "        if type(arg) is str:\n",
    "            query = {\"transaction.id.data\": arg}\n",
    "            if not pool:\n",
    "                query[\"blockId\"] = {\"$exists\": True}\n",
    "        elif type(arg) is dict:\n",
    "            query = arg\n",
    "        else:\n",
    "            query = {}\n",
    "        transactions = (Transaction(t) for t in db.transactions.find(query))\n",
    "        super().__init__(transactions)\n",
    "\n",
    "    @classmethod\n",
    "    def by_input(cls, transaction_id, output_id, pool=True):\n",
    "        query = {\n",
    "            \"transaction.inputs\": {\n",
    "                \"$elemMatch\": {\n",
    "                    \"id.data\": transaction_id,\n",
    "                    \"outputId\": output_id,\n",
    "                }\n",
    "            }\n",
    "        }\n",
    "        if not pool:\n",
    "            query[\"blockId\"] = {\"$exists\": True}\n",
    "        return cls(query)\n",
    "\n",
    "\n",
    "class Blocks:\n",
    "    @classmethod\n",
    "    def get_tip(cls, db=db0):\n",
    "        return Block(db.blocks.find().sort(\"score\", pymongo.DESCENDING).next())"
   ]
  },
  {
   "cell_type": "code",
   "execution_count": 5,
   "metadata": {
    "ExecuteTime": {
     "end_time": "2019-05-14T09:31:22.924825Z",
     "start_time": "2019-05-14T09:31:22.910410Z"
    }
   },
   "outputs": [
    {
     "data": {
      "text/plain": [
       "{'_id': ObjectId('5cda75eb85699a387b033627'),\n",
       " 'id': {'type': 'SHA256',\n",
       "  'data': 'HZ74PR2VJZA7Hq2qKRuTY/0SNGE0KVjzwqLO/2JWWHQ='},\n",
       " 'finishedComputation': True,\n",
       " 'height': -2,\n",
       " 'seed': 0,\n",
       " 'nbAddresses': 2}"
      ]
     },
     "execution_count": 5,
     "metadata": {},
     "output_type": "execute_result"
    }
   ],
   "source": [
    "Block(0, db=db1).previousAssembly.previousAssembly"
   ]
  },
  {
   "cell_type": "code",
   "execution_count": 6,
   "metadata": {
    "ExecuteTime": {
     "end_time": "2019-05-14T09:31:27.279963Z",
     "start_time": "2019-05-14T09:31:27.274891Z"
    }
   },
   "outputs": [
    {
     "data": {
      "text/plain": [
       "[({'branchIds': [1, 0], 'blockNumbers': [0, 0]}, 603726)]"
      ]
     },
     "execution_count": 6,
     "metadata": {},
     "output_type": "execute_result"
    }
   ],
   "source": [
    "[\n",
    "    (ob.get(\"branchPath\"), ob[\"block\"][\"header\"][\"height\"])\n",
    "    for ob in db2.blocks.find({\"branchPath.branchIds\": {\"$ne\": [0]}})\n",
    "]"
   ]
  },
  {
   "cell_type": "code",
   "execution_count": 7,
   "metadata": {
    "ExecuteTime": {
     "end_time": "2019-05-14T09:31:28.181901Z",
     "start_time": "2019-05-14T09:31:28.171654Z"
    }
   },
   "outputs": [
    {
     "data": {
      "text/plain": [
       "[({'branchIds': [1, 0], 'blockNumbers': [0, 0]}, 603726),\n",
       " ({'branchIds': [1, 0], 'blockNumbers': [1, 0]}, 603727)]"
      ]
     },
     "execution_count": 7,
     "metadata": {},
     "output_type": "execute_result"
    }
   ],
   "source": [
    "[\n",
    "    (ob.get(\"branchPath\"), ob[\"block\"][\"header\"][\"height\"])\n",
    "    for ob in db0.blocks.find({\"branchPath.branchIds\": {\"$ne\": [0]}})\n",
    "]"
   ]
  },
  {
   "cell_type": "code",
   "execution_count": 8,
   "metadata": {
    "ExecuteTime": {
     "end_time": "2019-05-14T09:31:28.638259Z",
     "start_time": "2019-05-14T09:31:28.632545Z"
    }
   },
   "outputs": [],
   "source": [
    "heights = [\n",
    "    [ob[\"block\"][\"header\"][\"height\"] for ob in db.blocks.find()]\n",
    "    for db in (db0, db1, db2)\n",
    "]"
   ]
  },
  {
   "cell_type": "code",
   "execution_count": 9,
   "metadata": {
    "ExecuteTime": {
     "end_time": "2019-05-14T09:31:29.506076Z",
     "start_time": "2019-05-14T09:31:29.503287Z"
    }
   },
   "outputs": [],
   "source": [
    "h0 = set(heights[0])\n",
    "h1 = set(heights[1])\n",
    "h2 = set(heights[2])"
   ]
  },
  {
   "cell_type": "code",
   "execution_count": 10,
   "metadata": {
    "ExecuteTime": {
     "end_time": "2019-05-14T09:31:30.291699Z",
     "start_time": "2019-05-14T09:31:30.285509Z"
    }
   },
   "outputs": [
    {
     "name": "stdout",
     "output_type": "stream",
     "text": [
      "set() set()\n",
      "{603727} set()\n",
      "603730 8\n"
     ]
    }
   ],
   "source": [
    "print(h0 - h1, h1 - h0)\n",
    "print(h0 - h2, h2 - h0)\n",
    "print(max(h0), len(h0))"
   ]
  },
  {
   "cell_type": "code",
   "execution_count": 11,
   "metadata": {
    "ExecuteTime": {
     "end_time": "2019-05-14T09:31:47.551060Z",
     "start_time": "2019-05-14T09:31:47.546270Z"
    }
   },
   "outputs": [
    {
     "data": {
      "text/plain": [
       "[]"
      ]
     },
     "execution_count": 11,
     "metadata": {},
     "output_type": "execute_result"
    }
   ],
   "source": [
    "Transactions(\"1UM57qEdvRZ3V1TmMCjOetoH2URLglDPLSnAlEI6dxY=\", pool=False).block.branchPath"
   ]
  },
  {
   "cell_type": "code",
   "execution_count": 33,
   "metadata": {
    "ExecuteTime": {
     "end_time": "2019-05-14T12:45:03.639190Z",
     "start_time": "2019-05-14T12:45:03.634186Z"
    }
   },
   "outputs": [
    {
     "data": {
      "text/plain": [
       "{'_id': ObjectId('5cda75fe85699a362a5d70d3'),\n",
       " 'block': {'header': {'id': {'type': 'SHA256',\n",
       "    'data': 'OtrE1x0xABKNw6ge7UrXsChkFF21r4JjfWDYR8dbHjU='},\n",
       "   'timestamp': {'data': 1557820926},\n",
       "   'previousBlockHash': {'type': 'SHA256',\n",
       "    'data': 'KJIUzAXg8eFrEJuiW9Cuz8oX/ehy/6r2aUJLRmC8wtY='},\n",
       "   'author': {'signature': {'type': 'SHA256',\n",
       "     'data': 'SfRVzLMGidRWBbLBTl6dLtSsA6mDymwDtKqeJ79G5c37ERESDWBBqBCKXCB9H5l/XTUB9B1CHKYBpuEdgyW05g=='},\n",
       "    'keyPub': {'type': 'ECP256K1',\n",
       "     'rawData': 'A+BPdJmNMRu7dZ0O4+b/jG5CyuLeI870VKYu0DrtJ8I8'}},\n",
       "   'height': 603730}},\n",
       " 'branch': 'UNVERIFIED',\n",
       " 'branchPath': {'branchIds': [0], 'blockNumbers': [5]}}"
      ]
     },
     "execution_count": 33,
     "metadata": {},
     "output_type": "execute_result"
    }
   ],
   "source": [
    "Block(\"OtrE1x0xABKNw6ge7UrXsChkFF21r4JjfWDYR8dbHjU=\")"
   ]
  },
  {
   "cell_type": "code",
   "execution_count": 38,
   "metadata": {
    "ExecuteTime": {
     "end_time": "2019-05-14T12:46:26.940484Z",
     "start_time": "2019-05-14T12:46:26.934759Z"
    }
   },
   "outputs": [
    {
     "data": {
      "text/plain": [
       "[{'branchIds': [0], 'blockNumbers': [5]}]"
      ]
     },
     "execution_count": 38,
     "metadata": {},
     "output_type": "execute_result"
    }
   ],
   "source": [
    "Transactions(\"0eLNKWSfT51YkpVC6CZRWY9BOX2AUZIZseQxvFssCWs=\", db=db1, pool=False).block.branchPath"
   ]
  },
  {
   "cell_type": "code",
   "execution_count": 32,
   "metadata": {
    "ExecuteTime": {
     "end_time": "2019-05-14T10:46:05.518766Z",
     "start_time": "2019-05-14T10:46:05.513967Z"
    }
   },
   "outputs": [
    {
     "data": {
      "text/plain": [
       "[{'branchIds': [1, 0], 'blockNumbers': [1, 0]}]"
      ]
     },
     "execution_count": 32,
     "metadata": {},
     "output_type": "execute_result"
    }
   ],
   "source": [
    "Transactions(\"7002Vjd2bbrN/nA3B1wvjN1vi/ja9lEiSanGs9WEGpU=\").block.branchPath"
   ]
  },
  {
   "cell_type": "code",
   "execution_count": 28,
   "metadata": {
    "ExecuteTime": {
     "end_time": "2019-05-14T09:39:54.573323Z",
     "start_time": "2019-05-14T09:39:54.568237Z"
    }
   },
   "outputs": [
    {
     "data": {
      "text/plain": [
       "[{'_id': ObjectId('5cda75ef85699a362a5d70c5'),\n",
       "  'transaction': {'id': {'type': 'SHA256',\n",
       "    'data': '7002Vjd2bbrN/nA3B1wvjN1vi/ja9lEiSanGs9WEGpU='},\n",
       "   'inputs': [{'id': {'type': 'SHA256',\n",
       "      'data': 'BnkJitgML5phxXJQabhzzeBN1PN5bFVEALjwYgnK8cs='},\n",
       "     'outputId': 1,\n",
       "     'signatureId': 0},\n",
       "    {'id': {'type': 'SHA256',\n",
       "      'data': 'JtHQcoxC2xsVbwyGBfg5tmvJn57QWXJpJRf44KxY4VE='},\n",
       "     'outputId': 0,\n",
       "     'signatureId': 0}],\n",
       "   'outputs': [{'address': {'data': 'N2DJgbU3v8tbbzaDdBEyn5fPnLZVzAFC6E'},\n",
       "     'value': {'value': '500050'}},\n",
       "    {'address': {'data': 'NHW276q4ZQvaDTDGWLvnrfrnVsUY18Esjm'},\n",
       "     'value': {'value': '500050'}}],\n",
       "   'signatures': [{'signature': {'type': 'SHA256',\n",
       "      'data': 'kLZhZSIOhAioxJlJea3o0SOgoXZqHEUGf5YnWETpEEL9MTUVfWhJKumBuZ6Nxqa04fPN/kluYnXxtG8X/Y0G0Q=='},\n",
       "     'keyPub': {'type': 'ECP256K1',\n",
       "      'rawData': 'A3VGExsTvRZm+9FuzCT9u2aef+L5Fnz8HkH8FdGSlfpq'}},\n",
       "    {'signature': {'type': 'SHA256',\n",
       "      'data': 'fHO4Ng9wq2P8QfQvsgPA0snk/Iev5yr+XAl2MECmw7J0FXz/ALwPP7lTWUyuxx67LSEn9cQ724DC7M7wEbaw3A=='},\n",
       "     'keyPub': {'type': 'ECP256K1',\n",
       "      'rawData': 'A3VGExsTvRZm+9FuzCT9u2aef+L5Fnz8HkH8FdGSlfpq'}}]},\n",
       "  'isCoinbase': False,\n",
       "  'blockId': {'type': 'SHA256',\n",
       "   'data': 'aPsZqYiC4/n8IFV4XhYDgH2O8RCQpXQaqH0ypbv/4MA='}}]"
      ]
     },
     "execution_count": 28,
     "metadata": {},
     "output_type": "execute_result"
    }
   ],
   "source": [
    "Transactions(\"7002Vjd2bbrN/nA3B1wvjN1vi/ja9lEiSanGs9WEGpU=\")"
   ]
  },
  {
   "cell_type": "code",
   "execution_count": 41,
   "metadata": {
    "ExecuteTime": {
     "end_time": "2019-05-14T13:44:06.286883Z",
     "start_time": "2019-05-14T13:44:06.278094Z"
    }
   },
   "outputs": [
    {
     "data": {
      "text/plain": [
       "[{'_id': ObjectId('5cdac1e985699a60a77f7a9e'),\n",
       "  'transaction': {'id': {'type': 'SHA256',\n",
       "    'data': '5lpMPp57uSDegM6ig1P3u54xLtGILv3tpF+Nyw4iTwY='},\n",
       "   'inputs': [{'id': {'type': 'SHA256',\n",
       "      'data': 'pEMC0wWSrVr1boX2lxMte8S/p7LCD/V+0HgbcJ1q7lY='},\n",
       "     'outputId': 1,\n",
       "     'signatureId': 0},\n",
       "    {'id': {'type': 'SHA256',\n",
       "      'data': 'auWyK0SH4vHEruX6ANZ4LBITvCTgvP7oz7HFkCrUdes='},\n",
       "     'outputId': 0,\n",
       "     'signatureId': 0},\n",
       "    {'id': {'type': 'SHA256',\n",
       "      'data': 'Yb0yya4XdhKZpZfW6HbHgU9UHJ4JskL2KXqumsOeRGo='},\n",
       "     'outputId': 0,\n",
       "     'signatureId': 0}],\n",
       "   'outputs': [{'address': {'data': 'N2DJgbU3v8tbbzaDdBEyn5fPnLZVzAFC6E'},\n",
       "     'value': {'value': '584180'}},\n",
       "    {'address': {'data': 'NHW276q4ZQvaDTDGWLvnrfrnVsUY18Esjm'},\n",
       "     'value': {'value': '584181'}}],\n",
       "   'signatures': [{'signature': {'type': 'SHA256',\n",
       "      'data': 'BltYjDlefKyGueBzxV8q6mYG+EHZ5ixnIws27/ZmdTZwmy9T+DwUC0bD8vHxESLc1I0bkdow/8zrqtxzevxIHA=='},\n",
       "     'keyPub': {'type': 'ECP256K1',\n",
       "      'rawData': 'Ants3Tmuf5x/mTLrumEyuh9oYK2DUR/YtKRvxfTbvuz1'}},\n",
       "    {'signature': {'type': 'SHA256',\n",
       "      'data': 'mzwjy4VIbMdB/zLVBfL7Jv8cMArGyxTYKjL95FsvSupymP9s3WQpNDusiTsnJCCSa1H0P9ErmHfozfvVIzbrZQ=='},\n",
       "     'keyPub': {'type': 'ECP256K1',\n",
       "      'rawData': 'Ants3Tmuf5x/mTLrumEyuh9oYK2DUR/YtKRvxfTbvuz1'}},\n",
       "    {'signature': {'type': 'SHA256',\n",
       "      'data': '+Z/k/oVubS7UJYdAU0tue9Hw5NEOA5BP1g3qvonbl7ENnLETl8J59K+WOCruvSY4S2Y91WPQncoa/7Cf0P+v7w=='},\n",
       "     'keyPub': {'type': 'ECP256K1',\n",
       "      'rawData': 'Ants3Tmuf5x/mTLrumEyuh9oYK2DUR/YtKRvxfTbvuz1'}}]},\n",
       "  'isCoinbase': False,\n",
       "  'blockId': {'type': 'SHA256',\n",
       "   'data': 'f4h1GPiyhebWqZM1IUIsoNfG2hmxOgKYt3OQmJ8QmZc='}},\n",
       " {'_id': ObjectId('5cdac1e985699a60a77f7a9f'),\n",
       "  'transaction': {'id': {'type': 'SHA256',\n",
       "    'data': 'CS3wN4WHLKNVDF/E4xk4QwmkB1rTeomDjhBj+GWkPK4='},\n",
       "   'inputs': [{'id': {'type': 'SHA256',\n",
       "      'data': 'pEMC0wWSrVr1boX2lxMte8S/p7LCD/V+0HgbcJ1q7lY='},\n",
       "     'outputId': 1,\n",
       "     'signatureId': 0},\n",
       "    {'id': {'type': 'SHA256',\n",
       "      'data': 'auWyK0SH4vHEruX6ANZ4LBITvCTgvP7oz7HFkCrUdes='},\n",
       "     'outputId': 0,\n",
       "     'signatureId': 0},\n",
       "    {'id': {'type': 'SHA256',\n",
       "      'data': 'Yb0yya4XdhKZpZfW6HbHgU9UHJ4JskL2KXqumsOeRGo='},\n",
       "     'outputId': 0,\n",
       "     'signatureId': 0}],\n",
       "   'outputs': [{'address': {'data': 'N2DJgbU3v8tbbzaDdBEyn5fPnLZVzAFC6E'},\n",
       "     'value': {'value': '584180'}},\n",
       "    {'address': {'data': 'NHW276q4ZQvaDTDGWLvnrfrnVsUY18Esjm'},\n",
       "     'value': {'value': '584181'}}],\n",
       "   'signatures': [{'signature': {'type': 'SHA256',\n",
       "      'data': '98NUTi156NwU7oO/r2TaVpa1nXf4hcag9KpSIbih5IKwPfYHRDPGimYMBBoKTToX/1EVoqvKZm0XL7Rb0MM/1Q=='},\n",
       "     'keyPub': {'type': 'ECP256K1',\n",
       "      'rawData': 'AsZXg/QH1d2xJ66sLoTOeHQLF/cUzJLJe+IDZXGtx6Vo'}},\n",
       "    {'signature': {'type': 'SHA256',\n",
       "      'data': 'cdxHun0hEgCKPBqicPPEM3OGyXshPhYxM3MNQsl6E7IBAt1lkB3WpiwyDsQhqKCzdSOT/+kcGq9TAfBmo9359g=='},\n",
       "     'keyPub': {'type': 'ECP256K1',\n",
       "      'rawData': 'AsZXg/QH1d2xJ66sLoTOeHQLF/cUzJLJe+IDZXGtx6Vo'}},\n",
       "    {'signature': {'type': 'SHA256',\n",
       "      'data': '9U7fiLU0+qC7Los6hpcRMPQEfSGWZrVsKI/2300dDR4Cpssa6MFBhLX+h0tIZoHT+kFZPeZrR33QrbRMhrv5NQ=='},\n",
       "     'keyPub': {'type': 'ECP256K1',\n",
       "      'rawData': 'AsZXg/QH1d2xJ66sLoTOeHQLF/cUzJLJe+IDZXGtx6Vo'}}]},\n",
       "  'isCoinbase': False,\n",
       "  'blockId': {'type': 'SHA256',\n",
       "   'data': 'f4h1GPiyhebWqZM1IUIsoNfG2hmxOgKYt3OQmJ8QmZc='}}]"
      ]
     },
     "execution_count": 41,
     "metadata": {},
     "output_type": "execute_result"
    }
   ],
   "source": [
    "Transactions.by_input(transaction_id=\"pEMC0wWSrVr1boX2lxMte8S/p7LCD/V+0HgbcJ1q7lY=\", output_id=1, pool=False)"
   ]
  },
  {
   "cell_type": "code",
   "execution_count": 44,
   "metadata": {
    "ExecuteTime": {
     "end_time": "2019-05-14T13:44:43.942821Z",
     "start_time": "2019-05-14T13:44:43.937521Z"
    }
   },
   "outputs": [
    {
     "data": {
      "text/plain": [
       "[{'_id': ObjectId('5cdac1e985699a60a77f7a9c'),\n",
       "  'block': {'header': {'id': {'type': 'SHA256',\n",
       "     'data': 'f4h1GPiyhebWqZM1IUIsoNfG2hmxOgKYt3OQmJ8QmZc='},\n",
       "    'timestamp': {'data': 1557840361},\n",
       "    'previousBlockHash': {'type': 'SHA256',\n",
       "     'data': 'gOZDavHsQt/CQx/QkmbC+lnbvUWFUAjzzU3ubwjTXMc='},\n",
       "    'author': {'signature': {'type': 'SHA256',\n",
       "      'data': '1tkTS1BtoAkNFAO6NkFtIAbTkaQkElFMRjv+XyrJEAFg7lP34Z0/aqXnsqCizCitxdNUtYOkG8UuKOkEhFUwUw=='},\n",
       "     'keyPub': {'type': 'ECP256K1',\n",
       "      'rawData': 'Awqh/GaK+zXAydO8h4sDf4apFNmW8SFaIqRqXioYDXy8'}},\n",
       "    'height': 607617}},\n",
       "  'branch': 'UNVERIFIED',\n",
       "  'branchPath': {'branchIds': [0], 'blockNumbers': [125]}}]"
      ]
     },
     "execution_count": 44,
     "metadata": {},
     "output_type": "execute_result"
    }
   ],
   "source": [
    "[b for b in db0.blocks.find({\"block.header.id.data\": \"f4h1GPiyhebWqZM1IUIsoNfG2hmxOgKYt3OQmJ8QmZc=\"})]"
   ]
  },
  {
   "cell_type": "code",
   "execution_count": 22,
   "metadata": {
    "ExecuteTime": {
     "end_time": "2019-05-09T09:33:06.337354Z",
     "start_time": "2019-05-09T09:33:06.330807Z"
    }
   },
   "outputs": [
    {
     "data": {
      "text/plain": [
       "{'_id': ObjectId('5cc9969e85699a12a228294d'),\n",
       " 'block': {'header': {'id': {'type': 'SHA256',\n",
       "    'data': 'KhlcPujzAs58+e9LT/2XeNueJEbZEvT4efAAtnLD6Uk='},\n",
       "   'timestamp': {'data': 1556715166},\n",
       "   'previousBlockHash': {'type': 'SHA256',\n",
       "    'data': 'SWAo24vprvsuLKwkpuKHIlyfxB36QEPh0eUV1CnsGpA='},\n",
       "   'author': {'signature': {'type': 'SHA256',\n",
       "     'data': 'MQPzbioZt9p9ie0p43cq3/qMiVGaN54coHIPjqQnZ2nQHF/D5xlpQqn+B1F1cjhW6c1WYleHDDPQ7ChgsPB/9g=='},\n",
       "    'keyPub': {'type': 'ECP256K1',\n",
       "     'rawData': 'Awqh/GaK+zXAydO8h4sDf4apFNmW8SFaIqRqXioYDXy8'}},\n",
       "   'height': 382578}},\n",
       " 'branch': 'UNVERIFIED',\n",
       " 'branchPath': {'branchIds': [0], 'blockNumbers': [31]}}"
      ]
     },
     "execution_count": 22,
     "metadata": {},
     "output_type": "execute_result"
    }
   ],
   "source": [
    "Block(\"KhlcPujzAs58+e9LT/2XeNueJEbZEvT4efAAtnLD6Uk=\")"
   ]
  }
 ],
 "metadata": {
  "kernelspec": {
   "display_name": "Python 3",
   "language": "python",
   "name": "python3"
  },
  "language_info": {
   "codemirror_mode": {
    "name": "ipython",
    "version": 3
   },
   "file_extension": ".py",
   "mimetype": "text/x-python",
   "name": "python",
   "nbconvert_exporter": "python",
   "pygments_lexer": "ipython3",
   "version": "3.6.8"
  }
 },
 "nbformat": 4,
 "nbformat_minor": 2
}
