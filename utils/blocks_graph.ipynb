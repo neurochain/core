{
 "cells": [
  {
   "cell_type": "code",
   "execution_count": 2,
   "metadata": {
    "ExecuteTime": {
     "end_time": "2019-05-09T09:32:56.588768Z",
     "start_time": "2019-05-09T09:32:56.520625Z"
    }
   },
   "outputs": [],
   "source": [
    "import pymongo\n",
    "from collections import Counter"
   ]
  },
  {
   "cell_type": "code",
   "execution_count": 3,
   "metadata": {
    "ExecuteTime": {
     "end_time": "2019-05-09T09:32:56.878144Z",
     "start_time": "2019-05-09T09:32:56.872465Z"
    }
   },
   "outputs": [],
   "source": [
    "c = pymongo.MongoClient()"
   ]
  },
  {
   "cell_type": "code",
   "execution_count": 4,
   "metadata": {
    "ExecuteTime": {
     "end_time": "2019-05-09T09:32:57.335864Z",
     "start_time": "2019-05-09T09:32:57.331599Z"
    }
   },
   "outputs": [],
   "source": [
    "db0 = c.neuro1337\n",
    "db1 = c.neuro1338\n",
    "db2 = c.neuro1339"
   ]
  },
  {
   "cell_type": "code",
   "execution_count": 72,
   "metadata": {
    "ExecuteTime": {
     "end_time": "2019-05-09T11:25:02.818688Z",
     "start_time": "2019-05-09T11:25:02.798939Z"
    }
   },
   "outputs": [],
   "source": [
    "class CoolDict(dict):\n",
    "    def __getattr__(self, name):\n",
    "        attr = self[name]\n",
    "        if type(attr) == dict:\n",
    "            return CoolDict(attr)\n",
    "        return attr\n",
    "\n",
    "\n",
    "class Block(CoolDict):\n",
    "    def __init__(self, arg, db=db0):\n",
    "        self.db = db\n",
    "        if type(arg) == dict:\n",
    "            super().__init__(arg)\n",
    "        elif type(arg) == str:\n",
    "            super().__init__(db.blocks.find_one({\"block.header.id.data\": arg}))\n",
    "        elif type(arg) == int:\n",
    "            super().__init__(db.blocks.find_one({\"block.header.height\": arg}))\n",
    "\n",
    "    @property\n",
    "    def previousAssembly(self):\n",
    "        return Assembly(self.previousAssemblyId.data, db=self.db)\n",
    "\n",
    "    @property\n",
    "    def transactions(self):\n",
    "        result = []\n",
    "        for t in self.db.transactions.find(\n",
    "            {\"blockId.data\": self.block.header.id.data, \"isCoinbase\": False}\n",
    "        ):\n",
    "            result.append(Transaction(t))\n",
    "        return result\n",
    "\n",
    "    @property\n",
    "    def coinbase(self):\n",
    "        return Transaction(\n",
    "            self.db.transactions.find_one(\n",
    "                {\"blockId.data\": self.block.header.id.data, \"isCoinbase\": True}\n",
    "            )\n",
    "        )\n",
    "\n",
    "\n",
    "class Assembly(CoolDict):\n",
    "    def __init__(self, arg, db=db0):\n",
    "        self.db = db\n",
    "        if type(arg) == str:\n",
    "            super().__init__(db.assemblies.find_one({\"id.data\": arg}))\n",
    "        elif type(arg) == int:\n",
    "            super().__init__(db.assemblies.find_one({\"height\": arg}))\n",
    "\n",
    "    @property\n",
    "    def previousAssembly(self):\n",
    "        return Assembly(self.previousAssemblyId.data, db=self.db)\n",
    "\n",
    "\n",
    "class Transaction(CoolDict):\n",
    "    def __init__(self, arg, db=db0, pool=True):\n",
    "        self.db = db\n",
    "        if type(arg) == dict:\n",
    "            super().__init__(arg)\n",
    "        else:\n",
    "            query = {\"transaction.id.data\": arg}\n",
    "            if not pool:\n",
    "                query[\"blockId\"] = {\"$exists\": True}\n",
    "            super().__init__(db.transactions.find_one(query))\n",
    "\n",
    "    @property\n",
    "    def block(self):\n",
    "        return Block(self.blockId.data, db=self.db)\n",
    "\n",
    "\n",
    "class CoolList(list):\n",
    "    def __getattr__(self, name):\n",
    "        return CoolList(getattr(x, name) for x in self)\n",
    "\n",
    "\n",
    "class Transactions(CoolList):\n",
    "    def __init__(self, arg=None, db=db0, pool=True):\n",
    "        if type(arg) is str:\n",
    "            query = {\"transaction.id.data\": arg}\n",
    "            if not pool:\n",
    "                query[\"blockId\"] = {\"$exists\": True}\n",
    "        elif type(arg) is dict:\n",
    "            query = arg\n",
    "        else:\n",
    "            query = {}\n",
    "        transactions = (Transaction(t) for t in db.transactions.find(query))\n",
    "        super().__init__(transactions)\n",
    "\n",
    "    @classmethod\n",
    "    def by_input(cls, transaction_id, output_id, pool=True):\n",
    "        query = {\n",
    "            \"transaction.inputs\": {\n",
    "                \"$elemMatch\": {\n",
    "                    \"id.data\": transaction_id,\n",
    "                    \"outputId\": output_id,\n",
    "                }\n",
    "            }\n",
    "        }\n",
    "        if not pool:\n",
    "            query[\"blockId\"] = {\"$exists\": True}\n",
    "        return cls(query)\n",
    "\n",
    "\n",
    "class Blocks:\n",
    "    @classmethod\n",
    "    def get_tip(cls, db=db0):\n",
    "        return Block(db.blocks.find().sort(\"score\", pymongo.DESCENDING).next())"
   ]
  },
  {
   "cell_type": "code",
   "execution_count": 6,
   "metadata": {
    "ExecuteTime": {
     "end_time": "2019-05-09T09:32:59.487875Z",
     "start_time": "2019-05-09T09:32:59.472458Z"
    }
   },
   "outputs": [
    {
     "data": {
      "text/plain": [
       "{'_id': ObjectId('5cc954ea85699a69fd4e4f47'),\n",
       " 'id': {'type': 'SHA256',\n",
       "  'data': 'J0PpFDw5b9UVrYBUoc/q1NO0r1u9q4EXuAptGJYNf04='},\n",
       " 'finishedComputation': True,\n",
       " 'height': -2,\n",
       " 'seed': 0,\n",
       " 'nbAddresses': 2}"
      ]
     },
     "execution_count": 6,
     "metadata": {},
     "output_type": "execute_result"
    }
   ],
   "source": [
    "Block(0, db=db1).previousAssembly.previousAssembly"
   ]
  },
  {
   "cell_type": "code",
   "execution_count": 7,
   "metadata": {
    "ExecuteTime": {
     "end_time": "2019-05-09T09:33:00.245574Z",
     "start_time": "2019-05-09T09:33:00.235453Z"
    }
   },
   "outputs": [
    {
     "data": {
      "text/plain": [
       "[]"
      ]
     },
     "execution_count": 7,
     "metadata": {},
     "output_type": "execute_result"
    }
   ],
   "source": [
    "[\n",
    "    (ob.get(\"branchPath\"), ob[\"block\"][\"header\"][\"height\"])\n",
    "    for ob in db2.blocks.find({\"branchPath.branchIds\": {\"$ne\": [0]}})\n",
    "]"
   ]
  },
  {
   "cell_type": "code",
   "execution_count": 8,
   "metadata": {
    "ExecuteTime": {
     "end_time": "2019-05-09T09:33:00.737910Z",
     "start_time": "2019-05-09T09:33:00.730068Z"
    }
   },
   "outputs": [
    {
     "data": {
      "text/plain": [
       "[({'branchIds': [1, 0], 'blockNumbers': [0, 29]}, 379690),\n",
       " ({'branchIds': [2, 0], 'blockNumbers': [0, 29]}, 380219),\n",
       " ({'branchIds': [3, 0], 'blockNumbers': [0, 29]}, 382206),\n",
       " ({'branchIds': [4, 0], 'blockNumbers': [0, 29]}, 382551),\n",
       " ({'branchIds': [5, 0], 'blockNumbers': [0, 29]}, 382576),\n",
       " ({'branchIds': [6, 0], 'blockNumbers': [0, 30]}, 517676),\n",
       " ({'branchIds': [7, 0], 'blockNumbers': [0, 30]}, 517955)]"
      ]
     },
     "execution_count": 8,
     "metadata": {},
     "output_type": "execute_result"
    }
   ],
   "source": [
    "[\n",
    "    (ob.get(\"branchPath\"), ob[\"block\"][\"header\"][\"height\"])\n",
    "    for ob in db0.blocks.find({\"branchPath.branchIds\": {\"$ne\": [0]}})\n",
    "]"
   ]
  },
  {
   "cell_type": "code",
   "execution_count": 9,
   "metadata": {
    "ExecuteTime": {
     "end_time": "2019-05-09T09:33:01.099153Z",
     "start_time": "2019-05-09T09:33:01.092296Z"
    }
   },
   "outputs": [],
   "source": [
    "heights = [\n",
    "    [ob[\"block\"][\"header\"][\"height\"] for ob in db.blocks.find()]\n",
    "    for db in (db0, db1, db2)\n",
    "]"
   ]
  },
  {
   "cell_type": "code",
   "execution_count": 10,
   "metadata": {
    "ExecuteTime": {
     "end_time": "2019-05-09T09:33:01.441122Z",
     "start_time": "2019-05-09T09:33:01.437383Z"
    }
   },
   "outputs": [],
   "source": [
    "h0 = set(heights[0])\n",
    "h1 = set(heights[1])\n",
    "h2 = set(heights[2])"
   ]
  },
  {
   "cell_type": "code",
   "execution_count": 11,
   "metadata": {
    "ExecuteTime": {
     "end_time": "2019-05-09T09:33:01.729022Z",
     "start_time": "2019-05-09T09:33:01.723139Z"
    }
   },
   "outputs": [
    {
     "name": "stdout",
     "output_type": "stream",
     "text": [
      "{379690, 382576, 382578, 382551, 380219, 382206} set()\n",
      "{517955, 379690, 517676, 382576, 382578, 382551, 380219, 382206} set()\n",
      "517955 39\n"
     ]
    }
   ],
   "source": [
    "print(h0 - h1, h1 - h0)\n",
    "print(h0 - h2, h2 - h0)\n",
    "print(max(h0), len(h0))"
   ]
  },
  {
   "cell_type": "code",
   "execution_count": 45,
   "metadata": {
    "ExecuteTime": {
     "end_time": "2019-05-09T10:39:55.432141Z",
     "start_time": "2019-05-09T10:39:55.423144Z"
    }
   },
   "outputs": [
    {
     "data": {
      "text/plain": [
       "[{'branchIds': [3, 0], 'blockNumbers': [0, 29]},\n",
       " {'branchIds': [5, 0], 'blockNumbers': [0, 29]},\n",
       " {'branchIds': [7, 0], 'blockNumbers': [0, 30]},\n",
       " {'branchIds': [4, 0], 'blockNumbers': [0, 29]},\n",
       " {'branchIds': [1, 0], 'blockNumbers': [0, 29]},\n",
       " {'branchIds': [0], 'blockNumbers': [31]},\n",
       " {'branchIds': [2, 0], 'blockNumbers': [0, 29]}]"
      ]
     },
     "execution_count": 45,
     "metadata": {},
     "output_type": "execute_result"
    }
   ],
   "source": [
    "Transactions(\"1UM57qEdvRZ3V1TmMCjOetoH2URLglDPLSnAlEI6dxY=\", pool=False).block.branchPath"
   ]
  },
  {
   "cell_type": "code",
   "execution_count": 65,
   "metadata": {
    "ExecuteTime": {
     "end_time": "2019-05-09T11:05:25.907354Z",
     "start_time": "2019-05-09T11:05:25.901792Z"
    }
   },
   "outputs": [
    {
     "data": {
      "text/plain": [
       "{'branchIds': [0], 'blockNumbers': [31]}"
      ]
     },
     "execution_count": 65,
     "metadata": {},
     "output_type": "execute_result"
    }
   ],
   "source": [
    "Block(\"KhlcPujzAs58+e9LT/2XeNueJEbZEvT4efAAtnLD6Uk=\").branchPath"
   ]
  },
  {
   "cell_type": "code",
   "execution_count": 74,
   "metadata": {
    "ExecuteTime": {
     "end_time": "2019-05-09T11:25:20.292876Z",
     "start_time": "2019-05-09T11:25:20.275530Z"
    }
   },
   "outputs": [
    {
     "data": {
      "text/plain": [
       "[{'branchIds': [3, 0], 'blockNumbers': [0, 29]},\n",
       " {'branchIds': [5, 0], 'blockNumbers': [0, 29]},\n",
       " {'branchIds': [7, 0], 'blockNumbers': [0, 30]},\n",
       " {'branchIds': [4, 0], 'blockNumbers': [0, 29]},\n",
       " {'branchIds': [1, 0], 'blockNumbers': [0, 29]},\n",
       " {'branchIds': [0], 'blockNumbers': [31]},\n",
       " {'branchIds': [0], 'blockNumbers': [30]},\n",
       " {'branchIds': [2, 0], 'blockNumbers': [0, 29]}]"
      ]
     },
     "execution_count": 74,
     "metadata": {},
     "output_type": "execute_result"
    }
   ],
   "source": [
    "Transactions.by_input(transaction_id=\"jT0eSdxLjEpBGvHdy8WmgWzmXsKJm4Lq2xvKb7uwyu0=\", output_id=1, pool=False).block.branchPath"
   ]
  },
  {
   "cell_type": "code",
   "execution_count": 22,
   "metadata": {
    "ExecuteTime": {
     "end_time": "2019-05-09T09:33:06.337354Z",
     "start_time": "2019-05-09T09:33:06.330807Z"
    }
   },
   "outputs": [
    {
     "data": {
      "text/plain": [
       "{'_id': ObjectId('5cc9969e85699a12a228294d'),\n",
       " 'block': {'header': {'id': {'type': 'SHA256',\n",
       "    'data': 'KhlcPujzAs58+e9LT/2XeNueJEbZEvT4efAAtnLD6Uk='},\n",
       "   'timestamp': {'data': 1556715166},\n",
       "   'previousBlockHash': {'type': 'SHA256',\n",
       "    'data': 'SWAo24vprvsuLKwkpuKHIlyfxB36QEPh0eUV1CnsGpA='},\n",
       "   'author': {'signature': {'type': 'SHA256',\n",
       "     'data': 'MQPzbioZt9p9ie0p43cq3/qMiVGaN54coHIPjqQnZ2nQHF/D5xlpQqn+B1F1cjhW6c1WYleHDDPQ7ChgsPB/9g=='},\n",
       "    'keyPub': {'type': 'ECP256K1',\n",
       "     'rawData': 'Awqh/GaK+zXAydO8h4sDf4apFNmW8SFaIqRqXioYDXy8'}},\n",
       "   'height': 382578}},\n",
       " 'branch': 'UNVERIFIED',\n",
       " 'branchPath': {'branchIds': [0], 'blockNumbers': [31]}}"
      ]
     },
     "execution_count": 22,
     "metadata": {},
     "output_type": "execute_result"
    }
   ],
   "source": [
    "Block(\"KhlcPujzAs58+e9LT/2XeNueJEbZEvT4efAAtnLD6Uk=\")"
   ]
  }
 ],
 "metadata": {
  "kernelspec": {
   "display_name": "Python 3",
   "language": "python",
   "name": "python3"
  },
  "language_info": {
   "codemirror_mode": {
    "name": "ipython",
    "version": 3
   },
   "file_extension": ".py",
   "mimetype": "text/x-python",
   "name": "python",
   "nbconvert_exporter": "python",
   "pygments_lexer": "ipython3",
   "version": "3.6.7"
  }
 },
 "nbformat": 4,
 "nbformat_minor": 2
}
