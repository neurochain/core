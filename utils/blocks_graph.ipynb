{
 "cells": [
  {
   "cell_type": "code",
   "execution_count": 1,
   "metadata": {
    "ExecuteTime": {
     "end_time": "2019-05-20T11:50:09.590278Z",
     "start_time": "2019-05-20T11:50:09.520377Z"
    }
   },
   "outputs": [],
   "source": [
    "from collections.abc import Iterable\n",
    "\n",
    "import pymongo\n",
    "from collections import Counter"
   ]
  },
  {
   "cell_type": "code",
   "execution_count": 2,
   "metadata": {
    "ExecuteTime": {
     "end_time": "2019-05-20T11:50:09.847485Z",
     "start_time": "2019-05-20T11:50:09.842545Z"
    }
   },
   "outputs": [],
   "source": [
    "c = pymongo.MongoClient()"
   ]
  },
  {
   "cell_type": "code",
   "execution_count": 3,
   "metadata": {
    "ExecuteTime": {
     "end_time": "2019-05-20T11:50:10.174819Z",
     "start_time": "2019-05-20T11:50:10.171198Z"
    }
   },
   "outputs": [],
   "source": [
    "db0 = c.neuro1337\n",
    "db1 = c.neuro1338\n",
    "db2 = c.neuro1339"
   ]
  },
  {
   "cell_type": "code",
   "execution_count": 4,
   "metadata": {
    "ExecuteTime": {
     "end_time": "2019-05-20T11:50:11.201157Z",
     "start_time": "2019-05-20T11:50:11.179576Z"
    }
   },
   "outputs": [],
   "source": [
    "class CoolDict(dict):\n",
    "    def __getattr__(self, name):\n",
    "        attr = self[name]\n",
    "        if type(attr) is dict:\n",
    "            return CoolDict(attr)\n",
    "        elif type(attr) is list:\n",
    "            return CoolList(attr)\n",
    "        return attr\n",
    "    \n",
    "    \n",
    "class CoolList(list):\n",
    "    def __getitem__(self, i):\n",
    "        item = super().__getitem__(i)\n",
    "        if type(item) is dict:\n",
    "            return CoolDict(item)\n",
    "        elif type(item) is list:\n",
    "            return CoolList(item)\n",
    "        return item\n",
    "\n",
    "    def __getattr__(self, name):\n",
    "        return CoolList(getattr(x, name) for x in self)\n",
    "\n",
    "\n",
    "class Block(CoolDict):\n",
    "    def __init__(self, arg, db=db0):\n",
    "        self.db = db\n",
    "        if type(arg) == dict:\n",
    "            super().__init__(arg)\n",
    "        elif type(arg) == str:\n",
    "            super().__init__(db.blocks.find_one({\"block.header.id.data\": arg}))\n",
    "        elif type(arg) == int:\n",
    "            super().__init__(db.blocks.find_one({\"block.header.height\": arg}))\n",
    "\n",
    "    @property\n",
    "    def previousAssembly(self):\n",
    "        return Assembly(self.previousAssemblyId.data, db=self.db)\n",
    "    \n",
    "    @property\n",
    "    def previousBlock(self):\n",
    "        return Block(self.block.header.previousBlockHash.data, db=self.db)\n",
    "\n",
    "    @property\n",
    "    def transactions(self):\n",
    "        result = []\n",
    "        for t in self.db.transactions.find(\n",
    "            {\"blockId.data\": self.block.header.id.data, \"isCoinbase\": False}\n",
    "        ):\n",
    "            result.append(Transaction(t))\n",
    "        return result\n",
    "\n",
    "    @property\n",
    "    def coinbase(self):\n",
    "        return Transaction(\n",
    "            self.db.transactions.find_one(\n",
    "                {\"blockId.data\": self.block.header.id.data, \"isCoinbase\": True}\n",
    "            )\n",
    "        )\n",
    "\n",
    "\n",
    "class Assembly(CoolDict):\n",
    "    def __init__(self, arg, db=db0):\n",
    "        self.db = db\n",
    "        if type(arg) == str:\n",
    "            super().__init__(db.assemblies.find_one({\"id.data\": arg}))\n",
    "        elif type(arg) == int:\n",
    "            super().__init__(db.assemblies.find_one({\"height\": arg}))\n",
    "\n",
    "    @property\n",
    "    def previousAssembly(self):\n",
    "        return Assembly(self.previousAssemblyId.data, db=self.db)\n",
    "\n",
    "\n",
    "class Transaction(CoolDict):\n",
    "    def __init__(self, arg, db=db0, pool=True):\n",
    "        self.db = db\n",
    "        if type(arg) == dict:\n",
    "            super().__init__(arg)\n",
    "        else:\n",
    "            query = {\"transaction.id.data\": arg}\n",
    "            if not pool:\n",
    "                query[\"blockId\"] = {\"$exists\": True}\n",
    "            super().__init__(db.transactions.find_one(query))\n",
    "\n",
    "    @property\n",
    "    def block(self):\n",
    "        return Block(self.blockId.data, db=self.db)\n",
    "\n",
    "\n",
    "\n",
    "\n",
    "class Transactions(CoolList):\n",
    "    def __init__(self, arg=None, db=db0, pool=True):\n",
    "        if type(arg) is str:\n",
    "            query = {\"transaction.id.data\": arg}\n",
    "            if not pool:\n",
    "                query[\"blockId\"] = {\"$exists\": True}\n",
    "        elif type(arg) is dict:\n",
    "            query = arg\n",
    "        else:\n",
    "            query = {}\n",
    "        transactions = (Transaction(t) for t in db.transactions.find(query))\n",
    "        super().__init__(transactions)\n",
    "\n",
    "    @classmethod\n",
    "    def by_input(cls, transaction_id, output_id, pool=True):\n",
    "        query = {\n",
    "            \"transaction.inputs\": {\n",
    "                \"$elemMatch\": {\n",
    "                    \"id.data\": transaction_id,\n",
    "                    \"outputId\": output_id,\n",
    "                }\n",
    "            }\n",
    "        }\n",
    "        if not pool:\n",
    "            query[\"blockId\"] = {\"$exists\": True}\n",
    "        return cls(query)\n",
    "\n",
    "\n",
    "class Blocks(CoolList):\n",
    "    def __init__(self, arg=None, db=db0):\n",
    "        self.db = db0\n",
    "        if isinstance(arg, Iterable):\n",
    "            super().__init__(arg)\n",
    "        else:\n",
    "            if type(arg) == str:\n",
    "                query = {\"block.header.id.data\": arg}\n",
    "            elif type(arg) == int:\n",
    "                query = {\"block.header.height\": arg}\n",
    "            elif type(arg) == dict:\n",
    "                query = arg\n",
    "            else:\n",
    "                query = {}\n",
    "            super().__init__([Block(b) for b in db.blocks.find(query)])\n",
    "    \n",
    "    @classmethod\n",
    "    def get_tip(cls, db=db0):\n",
    "        return Block(db.blocks.find().sort(\"score\", pymongo.DESCENDING).next())"
   ]
  },
  {
   "cell_type": "code",
   "execution_count": 5,
   "metadata": {
    "ExecuteTime": {
     "end_time": "2019-05-20T11:50:13.659973Z",
     "start_time": "2019-05-20T11:50:13.635945Z"
    }
   },
   "outputs": [
    {
     "data": {
      "text/plain": [
       "Counter({'Awqh/GaK+zXAydO8h4sDf4apFNmW8SFaIqRqXioYDXy8': 87,\n",
       "         'A+BPdJmNMRu7dZ0O4+b/jG5CyuLeI870VKYu0DrtJ8I8': 75,\n",
       "         'AyMKGnZhazXAoXb0SJIqi4Ho+lk6bw0UttE34PDtDbya': 78})"
      ]
     },
     "execution_count": 5,
     "metadata": {},
     "output_type": "execute_result"
    }
   ],
   "source": [
    "Counter(Blocks().block.header.author.keyPub.rawData)"
   ]
  },
  {
   "cell_type": "code",
   "execution_count": 208,
   "metadata": {
    "ExecuteTime": {
     "end_time": "2019-05-16T13:14:32.441681Z",
     "start_time": "2019-05-16T13:14:32.432917Z"
    }
   },
   "outputs": [],
   "source": [
    "blocks = Blocks()"
   ]
  },
  {
   "cell_type": "code",
   "execution_count": 209,
   "metadata": {
    "ExecuteTime": {
     "end_time": "2019-05-16T13:14:41.153773Z",
     "start_time": "2019-05-16T13:14:41.141383Z"
    }
   },
   "outputs": [
    {
     "data": {
      "text/plain": [
       "[{'_id': ObjectId('5cdd4d7985699a37350740fe'),\n",
       "  'transaction': {'id': {'type': 'SHA256',\n",
       "    'data': '+8YKoBO2WH48YIYy0Zlto0+ng1B2XCWDrww698TkBg0='},\n",
       "   'inputs': [{'id': {'type': 'SHA256',\n",
       "      'data': 'YRI/oYLChiXWY5r2TXmEZLbHPvjCONCCGScusb2ki88='},\n",
       "     'outputId': 1,\n",
       "     'signatureId': 0}],\n",
       "   'outputs': [{'address': {'data': 'N2DJgbU3v8tbbzaDdBEyn5fPnLZVzAFC6E'},\n",
       "     'value': {'value': '20150'}},\n",
       "    {'address': {'data': 'N3kfoQECGGnwsPp5uDqKJXoxjNRdpw8ML7'},\n",
       "     'value': {'value': '20150'}}],\n",
       "   'signatures': [{'signature': {'type': 'SHA256',\n",
       "      'data': 'aF4EAzq9P2dI0NkG0ymwuwbxVHKnwPYZ+uMSx4xNp1KJkcGx3C38oszbDshpvmBrpGggTW/O9KnjjDOtSK52ng=='},\n",
       "     'keyPub': {'type': 'ECP256K1',\n",
       "      'rawData': 'A/onLQq4MiXW88WcElvVwuglgo26edpKwnEGverU8qpL'}}]},\n",
       "  'isCoinbase': False,\n",
       "  'blockId': {'type': 'SHA256',\n",
       "   'data': 'qRmznA1gT236hM8PZq+IuB8xIdNA9ehRP1mvmx+TBYk='}},\n",
       " {'_id': ObjectId('5cdd4d7985699a37350740ff'),\n",
       "  'transaction': {'id': {'type': 'SHA256',\n",
       "    'data': '3rN91RFl3Mww0qvUWG1HAvVNZkI8yLSjZBQNyZfm2C0='},\n",
       "   'inputs': [{'id': {'type': 'SHA256',\n",
       "      'data': '+6ZMFGa34RBSi6J7L0Qr6jOXh8/IlpGhGJqZJa2wlTQ='},\n",
       "     'outputId': 1,\n",
       "     'signatureId': 0},\n",
       "    {'id': {'type': 'SHA256',\n",
       "      'data': 'SgJbx68VY5uajQ40Qr5l1NkoQddAJykkImFnqcDOgrk='},\n",
       "     'outputId': 0,\n",
       "     'signatureId': 0},\n",
       "    {'id': {'type': 'SHA256',\n",
       "      'data': 'LsYmmmuCHw5wCm8YbfvOQs830mxexpUz6Bqo2jC6OxU='},\n",
       "     'outputId': 0,\n",
       "     'signatureId': 0},\n",
       "    {'id': {'type': 'SHA256',\n",
       "      'data': 'YRI/oYLChiXWY5r2TXmEZLbHPvjCONCCGScusb2ki88='},\n",
       "     'outputId': 0,\n",
       "     'signatureId': 0}],\n",
       "   'outputs': [{'address': {'data': 'N3kfoQECGGnwsPp5uDqKJXoxjNRdpw8ML7'},\n",
       "     'value': {'value': '698246'}},\n",
       "    {'address': {'data': 'N2DJgbU3v8tbbzaDdBEyn5fPnLZVzAFC6E'},\n",
       "     'value': {'value': '698246'}}],\n",
       "   'signatures': [{'signature': {'type': 'SHA256',\n",
       "      'data': '9/ZUaPzUvlid2sGTZJSmsr+Emx9DoGQJD2QdGw7hGsQNBarnhLtKC//eKi95yinEy/I9TMvwNZPcRdHUMEaCCQ=='},\n",
       "     'keyPub': {'type': 'ECP256K1',\n",
       "      'rawData': 'Aov9OiWeljxXDlJjkL3jAExxReP/71wwlwWroNaHctUF'}},\n",
       "    {'signature': {'type': 'SHA256',\n",
       "      'data': 'aAEQN4Fn9+fJsx3vePCj4V0S1HdIS0hX8aKs2GC7uIE1rlc8HKtk99osCX+4LEwGYs7Uxw+S76tbUw4e1Pd2Ag=='},\n",
       "     'keyPub': {'type': 'ECP256K1',\n",
       "      'rawData': 'Aov9OiWeljxXDlJjkL3jAExxReP/71wwlwWroNaHctUF'}},\n",
       "    {'signature': {'type': 'SHA256',\n",
       "      'data': '0gjx98ZCfdfzON/szRVrF4LpJILNDyNP4SyQmEkehbRZAItMhOuOaP8qlfzpHoL7eP32PXYwztD6sQu01YAOJQ=='},\n",
       "     'keyPub': {'type': 'ECP256K1',\n",
       "      'rawData': 'Aov9OiWeljxXDlJjkL3jAExxReP/71wwlwWroNaHctUF'}},\n",
       "    {'signature': {'type': 'SHA256',\n",
       "      'data': 'rk166QEeibMz98xJxbtwBuVlt0H9DxtgceOe2pV6qY9bXavxvrcVxkdIZEXh19MYIulRuxMOefT7KLUBrKLYsw=='},\n",
       "     'keyPub': {'type': 'ECP256K1',\n",
       "      'rawData': 'Aov9OiWeljxXDlJjkL3jAExxReP/71wwlwWroNaHctUF'}}]},\n",
       "  'isCoinbase': False,\n",
       "  'blockId': {'type': 'SHA256',\n",
       "   'data': 'qRmznA1gT236hM8PZq+IuB8xIdNA9ehRP1mvmx+TBYk='}},\n",
       " {'_id': ObjectId('5cdd4d7985699a3735074100'),\n",
       "  'transaction': {'id': {'type': 'SHA256',\n",
       "    'data': 'F1Wi0QRlksvNoi1LZ/oGxpTtN4qqPDJLXfVcENlBmQk='},\n",
       "   'inputs': [{'id': {'type': 'SHA256',\n",
       "      'data': 'Xc53y0Zvrk/jo1EZjI5+vAT8oWDzRF0Ja64H1SCmnro='},\n",
       "     'outputId': 0,\n",
       "     'signatureId': 0},\n",
       "    {'id': {'type': 'SHA256',\n",
       "      'data': '3rN91RFl3Mww0qvUWG1HAvVNZkI8yLSjZBQNyZfm2C0='},\n",
       "     'outputId': 1,\n",
       "     'signatureId': 0},\n",
       "    {'id': {'type': 'SHA256',\n",
       "      'data': '+8YKoBO2WH48YIYy0Zlto0+ng1B2XCWDrww698TkBg0='},\n",
       "     'outputId': 0,\n",
       "     'signatureId': 0}],\n",
       "   'outputs': [{'address': {'data': 'N3kfoQECGGnwsPp5uDqKJXoxjNRdpw8ML7'},\n",
       "     'value': {'value': '500175'}},\n",
       "    {'address': {'data': 'N2DJgbU3v8tbbzaDdBEyn5fPnLZVzAFC6E'},\n",
       "     'value': {'value': '500175'}}],\n",
       "   'signatures': [{'signature': {'type': 'SHA256',\n",
       "      'data': '2HOQuhqg+naTpRbSCcxI03ZdP3c2lzeQ6pXpYGrSHmwUhQ7hjLj1Yegau/32sJ6QcAKApi4MFAMgPrIs0uWOpQ=='},\n",
       "     'keyPub': {'type': 'ECP256K1',\n",
       "      'rawData': 'A4fwe8BbBnk+w9+FEnlKOKJz7LSktubXYfOMyIrgbT5L'}},\n",
       "    {'signature': {'type': 'SHA256',\n",
       "      'data': '10kH6dPHCWIG5VpxYzC3CrGIhEp2jHEPmgrvJfe3inqbt3+NiyWsGvrkozlLE8L592gkoBaUhah7V2VvYM8iLQ=='},\n",
       "     'keyPub': {'type': 'ECP256K1',\n",
       "      'rawData': 'A4fwe8BbBnk+w9+FEnlKOKJz7LSktubXYfOMyIrgbT5L'}},\n",
       "    {'signature': {'type': 'SHA256',\n",
       "      'data': 'dCvZeJLywWxxHiIRwLOgFq3T2Kf/JCw4ZJxps0VVH6ExumWpkeofBFnohrrPdjHFamcDcfzBzHPCgVIrtuSq4Q=='},\n",
       "     'keyPub': {'type': 'ECP256K1',\n",
       "      'rawData': 'A4fwe8BbBnk+w9+FEnlKOKJz7LSktubXYfOMyIrgbT5L'}}]},\n",
       "  'isCoinbase': False,\n",
       "  'blockId': {'type': 'SHA256',\n",
       "   'data': 'qRmznA1gT236hM8PZq+IuB8xIdNA9ehRP1mvmx+TBYk='}},\n",
       " {'_id': ObjectId('5cdd4d7985699a3735074101'),\n",
       "  'transaction': {'id': {'type': 'SHA256',\n",
       "    'data': 'FGkHYWheoLPQvtEFlAGzOYozTj9KLEw4NY5E0HrMCIc='},\n",
       "   'inputs': [{'id': {'type': 'SHA256',\n",
       "      'data': '+KiaUT9wKv0bGiZPgS4Ss0Jpf384PF+MVmkgXLh4Vso='},\n",
       "     'outputId': 0,\n",
       "     'signatureId': 0},\n",
       "    {'id': {'type': 'SHA256',\n",
       "      'data': 'Xc53y0Zvrk/jo1EZjI5+vAT8oWDzRF0Ja64H1SCmnro='},\n",
       "     'outputId': 1,\n",
       "     'signatureId': 0},\n",
       "    {'id': {'type': 'SHA256',\n",
       "      'data': 'Xw7lcQi0xC0NI3IFZN/5+cODjrNCfHrxY93B/DBhJgU='},\n",
       "     'outputId': 0,\n",
       "     'signatureId': 0}],\n",
       "   'outputs': [{'address': {'data': 'N3kfoQECGGnwsPp5uDqKJXoxjNRdpw8ML7'},\n",
       "     'value': {'value': '320626'}},\n",
       "    {'address': {'data': 'NHW276q4ZQvaDTDGWLvnrfrnVsUY18Esjm'},\n",
       "     'value': {'value': '320626'}}],\n",
       "   'signatures': [{'signature': {'type': 'SHA256',\n",
       "      'data': 'kXF6cBbPF5MXEDVNHct8Ysn96YmHARgrC6+h4mTz/2APvJrreMV2nTH1cf+vKCJwDjL8Hku1tw25i5Cl1T5bvQ=='},\n",
       "     'keyPub': {'type': 'ECP256K1',\n",
       "      'rawData': 'A4hsLLtFJ1CicHsL1kDy3YjDUwbh51pJR+gQ2ICZyg6U'}},\n",
       "    {'signature': {'type': 'SHA256',\n",
       "      'data': 'Czov9MdiSqCVZdk+iRbsH3lN5QUECXSBWOpMRy1y9Dcg0kON+ybsIFGtOmmQU4JE1cSifgkoNfCLW5Wa6TrjAQ=='},\n",
       "     'keyPub': {'type': 'ECP256K1',\n",
       "      'rawData': 'A4hsLLtFJ1CicHsL1kDy3YjDUwbh51pJR+gQ2ICZyg6U'}},\n",
       "    {'signature': {'type': 'SHA256',\n",
       "      'data': 'EGag0MsZyNfiuP23s6XH0R7szBPOh/zelPC9u/MiU6bwFxUpUM5BCPb2NL5/sjMnwqeAVWFdKpfg9Q6Ly4lrzA=='},\n",
       "     'keyPub': {'type': 'ECP256K1',\n",
       "      'rawData': 'A4hsLLtFJ1CicHsL1kDy3YjDUwbh51pJR+gQ2ICZyg6U'}}]},\n",
       "  'isCoinbase': False,\n",
       "  'blockId': {'type': 'SHA256',\n",
       "   'data': 'qRmznA1gT236hM8PZq+IuB8xIdNA9ehRP1mvmx+TBYk='}},\n",
       " {'_id': ObjectId('5cdd4d7985699a3735074102'),\n",
       "  'transaction': {'id': {'type': 'SHA256',\n",
       "    'data': 'KkRmUNz6LC+GSBAzEG38307BZuYpBEN/StkMJkUL92s='},\n",
       "   'inputs': [{'id': {'type': 'SHA256',\n",
       "      'data': 'F1Wi0QRlksvNoi1LZ/oGxpTtN4qqPDJLXfVcENlBmQk='},\n",
       "     'outputId': 0,\n",
       "     'signatureId': 0},\n",
       "    {'id': {'type': 'SHA256',\n",
       "      'data': 'Xw7lcQi0xC0NI3IFZN/5+cODjrNCfHrxY93B/DBhJgU='},\n",
       "     'outputId': 1,\n",
       "     'signatureId': 0}],\n",
       "   'outputs': [{'address': {'data': 'N2DJgbU3v8tbbzaDdBEyn5fPnLZVzAFC6E'},\n",
       "     'value': {'value': '429686'}},\n",
       "    {'address': {'data': 'N3kfoQECGGnwsPp5uDqKJXoxjNRdpw8ML7'},\n",
       "     'value': {'value': '429687'}}],\n",
       "   'signatures': [{'signature': {'type': 'SHA256',\n",
       "      'data': 'DiSMKD207+63J/a9Mx0rBcer2RdoH7fY8NO55B5ObmCPNQo9q/bM+8p24P7acA2Idfb/GAjJsq5+zsC1cm1ESw=='},\n",
       "     'keyPub': {'type': 'ECP256K1',\n",
       "      'rawData': 'A5WA0FwABwRttRuN/+MfNjtpNOzGQPlSyyXm7xapzRwW'}},\n",
       "    {'signature': {'type': 'SHA256',\n",
       "      'data': 'e4xhev9RQKkkBtCABClI2B834dUWOHCkYA6EdxFp7jLGj9cSL+OAvWuff5veMU2eCFDs5h5agvnWcpUjcXUc0A=='},\n",
       "     'keyPub': {'type': 'ECP256K1',\n",
       "      'rawData': 'A5WA0FwABwRttRuN/+MfNjtpNOzGQPlSyyXm7xapzRwW'}}]},\n",
       "  'isCoinbase': False,\n",
       "  'blockId': {'type': 'SHA256',\n",
       "   'data': 'qRmznA1gT236hM8PZq+IuB8xIdNA9ehRP1mvmx+TBYk='}},\n",
       " {'_id': ObjectId('5cdd4d7985699a3735074103'),\n",
       "  'transaction': {'id': {'type': 'SHA256',\n",
       "    'data': 'Xc53y0Zvrk/jo1EZjI5+vAT8oWDzRF0Ja64H1SCmnro='},\n",
       "   'inputs': [{'id': {'type': 'SHA256',\n",
       "      'data': 'LsYmmmuCHw5wCm8YbfvOQs830mxexpUz6Bqo2jC6OxU='},\n",
       "     'outputId': 1,\n",
       "     'signatureId': 0}],\n",
       "   'outputs': [{'address': {'data': 'N2DJgbU3v8tbbzaDdBEyn5fPnLZVzAFC6E'},\n",
       "     'value': {'value': '281954'}},\n",
       "    {'address': {'data': 'NHW276q4ZQvaDTDGWLvnrfrnVsUY18Esjm'},\n",
       "     'value': {'value': '281954'}}],\n",
       "   'signatures': [{'signature': {'type': 'SHA256',\n",
       "      'data': 'hCJkp3ieVR7qt4cUcoTLTk5fGtzO6HoBF/eYomxNqAOEy0CPocFYxMbryoanAquk9Wp5FrVRRgzG4bMX2I/j1A=='},\n",
       "     'keyPub': {'type': 'ECP256K1',\n",
       "      'rawData': 'A8NIAmdk1ad5MmfCgjCvZUgknoi4L+0YGeNycutffR+b'}}]},\n",
       "  'isCoinbase': False,\n",
       "  'blockId': {'type': 'SHA256',\n",
       "   'data': 'qRmznA1gT236hM8PZq+IuB8xIdNA9ehRP1mvmx+TBYk='}},\n",
       " {'_id': ObjectId('5cdd4d7985699a3735074104'),\n",
       "  'transaction': {'id': {'type': 'SHA256',\n",
       "    'data': 'Xw7lcQi0xC0NI3IFZN/5+cODjrNCfHrxY93B/DBhJgU='},\n",
       "   'inputs': [{'id': {'type': 'SHA256',\n",
       "      'data': '+8YKoBO2WH48YIYy0Zlto0+ng1B2XCWDrww698TkBg0='},\n",
       "     'outputId': 1,\n",
       "     'signatureId': 0},\n",
       "    {'id': {'type': 'SHA256',\n",
       "      'data': '3rN91RFl3Mww0qvUWG1HAvVNZkI8yLSjZBQNyZfm2C0='},\n",
       "     'outputId': 0,\n",
       "     'signatureId': 0}],\n",
       "   'outputs': [{'address': {'data': 'NHW276q4ZQvaDTDGWLvnrfrnVsUY18Esjm'},\n",
       "     'value': {'value': '359198'}},\n",
       "    {'address': {'data': 'N3kfoQECGGnwsPp5uDqKJXoxjNRdpw8ML7'},\n",
       "     'value': {'value': '359198'}}],\n",
       "   'signatures': [{'signature': {'type': 'SHA256',\n",
       "      'data': '2uw4JJh7BeKDIW+uEgz2E60drg7a4h257Ch6Und242wRxI6fIE2xZUsyg0t4PW6tNnV48u2k9Heu7aA8pNl4YQ=='},\n",
       "     'keyPub': {'type': 'ECP256K1',\n",
       "      'rawData': 'AoTOkxcq3PEjI4GFpqFMvGCLY8zDp/UJPlaOohOuGQ6a'}},\n",
       "    {'signature': {'type': 'SHA256',\n",
       "      'data': 'LAsW8KlFAizR4zgSgf0Mz4Vxa/njodoVoPUU6wuA1i5duhlaYR1gzEex/cwN1CJI99PWfuLSSRHTfJmlgx2Aow=='},\n",
       "     'keyPub': {'type': 'ECP256K1',\n",
       "      'rawData': 'AoTOkxcq3PEjI4GFpqFMvGCLY8zDp/UJPlaOohOuGQ6a'}}]},\n",
       "  'isCoinbase': False,\n",
       "  'blockId': {'type': 'SHA256',\n",
       "   'data': 'qRmznA1gT236hM8PZq+IuB8xIdNA9ehRP1mvmx+TBYk='}}]"
      ]
     },
     "execution_count": 209,
     "metadata": {},
     "output_type": "execute_result"
    }
   ],
   "source": [
    "blocks[10].transactions"
   ]
  },
  {
   "cell_type": "code",
   "execution_count": 207,
   "metadata": {
    "ExecuteTime": {
     "end_time": "2019-05-16T13:14:24.462718Z",
     "start_time": "2019-05-16T13:14:24.455395Z"
    }
   },
   "outputs": [
    {
     "data": {
      "text/plain": [
       "[{'_id': ObjectId('5cdd4d7985699a37350740fe'),\n",
       "  'transaction': {'id': {'type': 'SHA256',\n",
       "    'data': '+8YKoBO2WH48YIYy0Zlto0+ng1B2XCWDrww698TkBg0='},\n",
       "   'inputs': [{'id': {'type': 'SHA256',\n",
       "      'data': 'YRI/oYLChiXWY5r2TXmEZLbHPvjCONCCGScusb2ki88='},\n",
       "     'outputId': 1,\n",
       "     'signatureId': 0}],\n",
       "   'outputs': [{'address': {'data': 'N2DJgbU3v8tbbzaDdBEyn5fPnLZVzAFC6E'},\n",
       "     'value': {'value': '20150'}},\n",
       "    {'address': {'data': 'N3kfoQECGGnwsPp5uDqKJXoxjNRdpw8ML7'},\n",
       "     'value': {'value': '20150'}}],\n",
       "   'signatures': [{'signature': {'type': 'SHA256',\n",
       "      'data': 'aF4EAzq9P2dI0NkG0ymwuwbxVHKnwPYZ+uMSx4xNp1KJkcGx3C38oszbDshpvmBrpGggTW/O9KnjjDOtSK52ng=='},\n",
       "     'keyPub': {'type': 'ECP256K1',\n",
       "      'rawData': 'A/onLQq4MiXW88WcElvVwuglgo26edpKwnEGverU8qpL'}}]},\n",
       "  'isCoinbase': False,\n",
       "  'blockId': {'type': 'SHA256',\n",
       "   'data': 'qRmznA1gT236hM8PZq+IuB8xIdNA9ehRP1mvmx+TBYk='}}]"
      ]
     },
     "execution_count": 207,
     "metadata": {},
     "output_type": "execute_result"
    }
   ],
   "source": [
    "[t for t in blocks[10].transactions if t.transaction.signatures[0].signature.data.startswith(\"aF4\")]"
   ]
  },
  {
   "cell_type": "code",
   "execution_count": 50,
   "metadata": {
    "ExecuteTime": {
     "end_time": "2019-05-15T06:59:29.060873Z",
     "start_time": "2019-05-15T06:59:29.054592Z"
    }
   },
   "outputs": [
    {
     "data": {
      "text/plain": [
       "[]"
      ]
     },
     "execution_count": 50,
     "metadata": {},
     "output_type": "execute_result"
    }
   ],
   "source": [
    "[\n",
    "    (ob.get(\"branchPath\"), ob[\"block\"][\"header\"][\"height\"])\n",
    "    for ob in db2.blocks.find({\"branchPath.branchIds\": {\"$ne\": [0]}})\n",
    "]"
   ]
  },
  {
   "cell_type": "code",
   "execution_count": 51,
   "metadata": {
    "ExecuteTime": {
     "end_time": "2019-05-15T06:59:31.094267Z",
     "start_time": "2019-05-15T06:59:31.088788Z"
    }
   },
   "outputs": [
    {
     "data": {
      "text/plain": [
       "[]"
      ]
     },
     "execution_count": 51,
     "metadata": {},
     "output_type": "execute_result"
    }
   ],
   "source": [
    "[\n",
    "    (ob.get(\"branchPath\"), ob[\"block\"][\"header\"][\"height\"])\n",
    "    for ob in db0.blocks.find({\"branchPath.branchIds\": {\"$ne\": [0]}})\n",
    "]"
   ]
  },
  {
   "cell_type": "code",
   "execution_count": 52,
   "metadata": {
    "ExecuteTime": {
     "end_time": "2019-05-15T06:59:31.838979Z",
     "start_time": "2019-05-15T06:59:31.813991Z"
    }
   },
   "outputs": [],
   "source": [
    "heights = [\n",
    "    [ob[\"block\"][\"header\"][\"height\"] for ob in db.blocks.find()]\n",
    "    for db in (db0, db1, db2)\n",
    "]"
   ]
  },
  {
   "cell_type": "code",
   "execution_count": 53,
   "metadata": {
    "ExecuteTime": {
     "end_time": "2019-05-15T06:59:34.413529Z",
     "start_time": "2019-05-15T06:59:34.410868Z"
    }
   },
   "outputs": [],
   "source": [
    "h0 = set(heights[0])\n",
    "h1 = set(heights[1])\n",
    "h2 = set(heights[2])"
   ]
  },
  {
   "cell_type": "code",
   "execution_count": 56,
   "metadata": {
    "ExecuteTime": {
     "end_time": "2019-05-15T06:59:38.003418Z",
     "start_time": "2019-05-15T06:59:37.999736Z"
    }
   },
   "outputs": [
    {
     "name": "stdout",
     "output_type": "stream",
     "text": [
      "set() set()\n",
      "set() set()\n",
      "608721 290\n"
     ]
    }
   ],
   "source": [
    "print(h0 - h1, h1 - h0)\n",
    "print(h0 - h2, h2 - h0)\n",
    "print(max(h0), len(h0))"
   ]
  },
  {
   "cell_type": "code",
   "execution_count": 210,
   "metadata": {
    "ExecuteTime": {
     "end_time": "2019-05-16T13:33:54.837945Z",
     "start_time": "2019-05-16T13:33:54.832530Z"
    }
   },
   "outputs": [
    {
     "data": {
      "text/plain": [
       "[]"
      ]
     },
     "execution_count": 210,
     "metadata": {},
     "output_type": "execute_result"
    }
   ],
   "source": [
    "Transactions(\"WXKuOLzlIs8NmdTdf3CVbWFeXLugCl+iV2USK00zGDs=\").block.branchPath"
   ]
  },
  {
   "cell_type": "code",
   "execution_count": 127,
   "metadata": {
    "ExecuteTime": {
     "end_time": "2019-05-16T08:52:07.947094Z",
     "start_time": "2019-05-16T08:52:07.941899Z"
    }
   },
   "outputs": [
    {
     "data": {
      "text/plain": [
       "{'_id': ObjectId('5cdc0c3485699a1b8f49a9fe'),\n",
       " 'block': {'header': {'id': {'type': 'SHA256',\n",
       "    'data': '6Kp8smlbNZsqhkH7gVgKvE/CnZQhI7XfAkjfLB6501E='},\n",
       "   'timestamp': {'data': 1557924916},\n",
       "   'previousBlockHash': {'type': 'SHA256',\n",
       "    'data': '8vvhrXnrhobPqyorpo2u6d6bW41JackRcPsRXz3lrOw='},\n",
       "   'author': {'signature': {'type': 'SHA256',\n",
       "     'data': 'Vga//8WLii/hx9PwY0nw3eN1abViBLtm2ddtgWajS6iXWSpwEzG3i+08rqfJeEANAnGOHY4rgI/U+vO73bvFNg=='},\n",
       "    'keyPub': {'type': 'ECP256K1',\n",
       "     'rawData': 'AyMKGnZhazXAoXb0SJIqi4Ho+lk6bw0UttE34PDtDbya'}},\n",
       "   'height': 624528}},\n",
       " 'branch': 'UNVERIFIED',\n",
       " 'branchPath': {'branchIds': [1, 0], 'blockNumbers': [255, 0]}}"
      ]
     },
     "execution_count": 127,
     "metadata": {},
     "output_type": "execute_result"
    }
   ],
   "source": [
    "Block(\"6Kp8smlbNZsqhkH7gVgKvE/CnZQhI7XfAkjfLB6501E=\")"
   ]
  },
  {
   "cell_type": "code",
   "execution_count": null,
   "metadata": {},
   "outputs": [],
   "source": []
  },
  {
   "cell_type": "code",
   "execution_count": 38,
   "metadata": {
    "ExecuteTime": {
     "end_time": "2019-05-14T12:46:26.940484Z",
     "start_time": "2019-05-14T12:46:26.934759Z"
    }
   },
   "outputs": [
    {
     "data": {
      "text/plain": [
       "[{'branchIds': [0], 'blockNumbers': [5]}]"
      ]
     },
     "execution_count": 38,
     "metadata": {},
     "output_type": "execute_result"
    }
   ],
   "source": [
    "Transactions(\"0eLNKWSfT51YkpVC6CZRWY9BOX2AUZIZseQxvFssCWs=\", db=db1, pool=False).block.branchPath"
   ]
  },
  {
   "cell_type": "code",
   "execution_count": 147,
   "metadata": {
    "ExecuteTime": {
     "end_time": "2019-05-16T12:59:26.854566Z",
     "start_time": "2019-05-16T12:59:26.848172Z"
    }
   },
   "outputs": [
    {
     "data": {
      "text/plain": [
       "[{'branchIds': [0], 'blockNumbers': [274]}]"
      ]
     },
     "execution_count": 147,
     "metadata": {},
     "output_type": "execute_result"
    }
   ],
   "source": [
    "Transactions(\"Bpgw/tkmuJFEYIqY7EYnfGpRCPa2uh3YAWRQiKplqPY=\").block.branchPath"
   ]
  },
  {
   "cell_type": "code",
   "execution_count": 16,
   "metadata": {
    "ExecuteTime": {
     "end_time": "2019-05-20T14:56:49.060382Z",
     "start_time": "2019-05-20T14:56:49.048348Z"
    }
   },
   "outputs": [
    {
     "data": {
      "text/plain": [
       "[{'_id': ObjectId('5ce2967685699a2c081d83c2'),\n",
       "  'transaction': {'id': {'type': 'SHA256',\n",
       "    'data': 'TLpkCnH0MC5MaRz0dNkUdu7ZATCVbzFdbu3u8e9LOqg='},\n",
       "   'inputs': [{'id': {'type': 'SHA256',\n",
       "      'data': 'Kd+jycUYhKsZ5ghqUzFq2QP2RCblatq0lf/GtcSDdS4='},\n",
       "     'outputId': 1,\n",
       "     'signatureId': 0},\n",
       "    {'id': {'type': 'SHA256',\n",
       "      'data': 'N5ks2r/uNMhefqJzO9bCtM6oc+iITyDPs9O4PqyC9Co='},\n",
       "     'outputId': 0,\n",
       "     'signatureId': 0},\n",
       "    {'id': {'type': 'SHA256',\n",
       "      'data': '8C5eKM9vU8Q6r71+xnSAfBmX7DpcPH/r6M3qbIKsX44='},\n",
       "     'outputId': 0,\n",
       "     'signatureId': 0}],\n",
       "   'outputs': [{'address': {'data': 'N2DJgbU3v8tbbzaDdBEyn5fPnLZVzAFC6E'},\n",
       "     'value': {'value': '582162'}},\n",
       "    {'address': {'data': 'N3kfoQECGGnwsPp5uDqKJXoxjNRdpw8ML7'},\n",
       "     'value': {'value': '582163'}}],\n",
       "   'signatures': [{'signature': {'type': 'SHA256',\n",
       "      'data': 'PnaG8sJ1mNDl11obhVooUhAYr2B5q3uQ8JvRAKrtOC23Cwq7fFRu1gd2wUinfTw8Y2jpPDaGhVlsjEgJDdaTnQ=='},\n",
       "     'keyPub': {'type': 'ECP256K1',\n",
       "      'rawData': 'AhjD6JuqIhi90w+PgSxP7e6GpdNTBGqCb9Ly+qy/ag8Y'}},\n",
       "    {'signature': {'type': 'SHA256',\n",
       "      'data': 'Andt8nBLQ4VUDWJl9zoMS+0UoqwCj3RGT1tAei0vkakeN5VD6RKs94Kdw/nGCpcQJ1MaPJDH29vd5Jt/a8Ju5Q=='},\n",
       "     'keyPub': {'type': 'ECP256K1',\n",
       "      'rawData': 'AhjD6JuqIhi90w+PgSxP7e6GpdNTBGqCb9Ly+qy/ag8Y'}},\n",
       "    {'signature': {'type': 'SHA256',\n",
       "      'data': 'JL7eK5pF0wL885zt0eNL/6inVTaFXTn95ctsyVtY5L2MgV71joQec7aXKHkvjAC6QAw06SgiwbpMMYuf0NXT5A=='},\n",
       "     'keyPub': {'type': 'ECP256K1',\n",
       "      'rawData': 'AhjD6JuqIhi90w+PgSxP7e6GpdNTBGqCb9Ly+qy/ag8Y'}}]},\n",
       "  'isCoinbase': False,\n",
       "  'blockId': {'type': 'SHA256',\n",
       "   'data': 'iS0PjjozOpMm38rm7CxJLaUfGL/0Z6QBYeqVs7naPNI='}},\n",
       " {'_id': ObjectId('5ce2967685699a2c081d83c3'),\n",
       "  'transaction': {'id': {'type': 'SHA256',\n",
       "    'data': 'WTE3RWrnZdCLOXlJZugGF34L7kEvOVyrABbP+snF3qw='},\n",
       "   'inputs': [{'id': {'type': 'SHA256',\n",
       "      'data': '8C5eKM9vU8Q6r71+xnSAfBmX7DpcPH/r6M3qbIKsX44='},\n",
       "     'outputId': 0,\n",
       "     'signatureId': 0},\n",
       "    {'id': {'type': 'SHA256',\n",
       "      'data': 'Kd+jycUYhKsZ5ghqUzFq2QP2RCblatq0lf/GtcSDdS4='},\n",
       "     'outputId': 1,\n",
       "     'signatureId': 0},\n",
       "    {'id': {'type': 'SHA256',\n",
       "      'data': 'N5ks2r/uNMhefqJzO9bCtM6oc+iITyDPs9O4PqyC9Co='},\n",
       "     'outputId': 0,\n",
       "     'signatureId': 0}],\n",
       "   'outputs': [{'address': {'data': 'N2DJgbU3v8tbbzaDdBEyn5fPnLZVzAFC6E'},\n",
       "     'value': {'value': '582162'}},\n",
       "    {'address': {'data': 'N3kfoQECGGnwsPp5uDqKJXoxjNRdpw8ML7'},\n",
       "     'value': {'value': '582163'}}],\n",
       "   'signatures': [{'signature': {'type': 'SHA256',\n",
       "      'data': 'q2MuxWYSq6uo4CPfvUjMlozRXiby9wV7iUmTCkqVRlso41oK347WY2SVVRxlkJiN7vOJzwgIYUmOfEXk57FMTg=='},\n",
       "     'keyPub': {'type': 'ECP256K1',\n",
       "      'rawData': 'Alz7KLJgA7Q1C6dmMOe9HxINugte4Nh1gQR6pfQ8coLP'}},\n",
       "    {'signature': {'type': 'SHA256',\n",
       "      'data': '3AFfU+BuK3baSRaaFnxjciHLBLIHQspobo3h/rt3A+r4SItNI+3BAOuNCGztp5YpcH61PG8qd5YebPAgToWIMA=='},\n",
       "     'keyPub': {'type': 'ECP256K1',\n",
       "      'rawData': 'Alz7KLJgA7Q1C6dmMOe9HxINugte4Nh1gQR6pfQ8coLP'}},\n",
       "    {'signature': {'type': 'SHA256',\n",
       "      'data': '5Oe3e0eZfXXfJUG5xDWqawUH1aCnZrnInK/y7agtXqHX7XKmXzlLND7Qqlqg7HBX/hiBIQQyvIksT7YzwsrBbw=='},\n",
       "     'keyPub': {'type': 'ECP256K1',\n",
       "      'rawData': 'Alz7KLJgA7Q1C6dmMOe9HxINugte4Nh1gQR6pfQ8coLP'}}]},\n",
       "  'isCoinbase': False,\n",
       "  'blockId': {'type': 'SHA256',\n",
       "   'data': 'iS0PjjozOpMm38rm7CxJLaUfGL/0Z6QBYeqVs7naPNI='}}]"
      ]
     },
     "execution_count": 16,
     "metadata": {},
     "output_type": "execute_result"
    }
   ],
   "source": [
    "Transactions.by_input(transaction_id=\"Kd+jycUYhKsZ5ghqUzFq2QP2RCblatq0lf/GtcSDdS4=\", output_id=1, pool=False)"
   ]
  },
  {
   "cell_type": "code",
   "execution_count": 7,
   "metadata": {
    "ExecuteTime": {
     "end_time": "2019-05-20T13:48:53.156334Z",
     "start_time": "2019-05-20T13:48:53.147360Z"
    }
   },
   "outputs": [
    {
     "data": {
      "text/plain": [
       "[{'_id': ObjectId('5ce2966e85699a2c081d83b7'),\n",
       "  'transaction': {'id': {'type': 'SHA256',\n",
       "    'data': '84jnlinty7WczW136n9TJzq91YdtDng6AwHUtqhgt7Y='},\n",
       "   'inputs': [{'id': {'type': 'SHA256',\n",
       "      'data': 'TLpkCnH0MC5MaRz0dNkUdu7ZATCVbzFdbu3u8e9LOqg='},\n",
       "     'outputId': 0,\n",
       "     'signatureId': 0},\n",
       "    {'id': {'type': 'SHA256',\n",
       "      'data': 'RI3FHB4DK8RpWza9AucKVXTPlyaVF0lpx7S+e0k6Mbo='},\n",
       "     'outputId': 1,\n",
       "     'signatureId': 0}],\n",
       "   'outputs': [{'address': {'data': 'NHW276q4ZQvaDTDGWLvnrfrnVsUY18Esjm'},\n",
       "     'value': {'value': '458775'}},\n",
       "    {'address': {'data': 'N2DJgbU3v8tbbzaDdBEyn5fPnLZVzAFC6E'},\n",
       "     'value': {'value': '458775'}}],\n",
       "   'signatures': [{'signature': {'type': 'SHA256',\n",
       "      'data': '1eTQxiQzp/YPwDdzMdWZUd6PxKNzgfwMUGwzN+RneyLs3W3XpGvxsgO2D5ni1NAL18tSDxu12LYUSFFt2pcYiQ=='},\n",
       "     'keyPub': {'type': 'ECP256K1',\n",
       "      'rawData': 'A7AOi95K1rfyo5tqawwc1chVVl3IXAu2ZxL3MYLGmWQ6'}},\n",
       "    {'signature': {'type': 'SHA256',\n",
       "      'data': 'Bg9CMpleVg3ec/Q1oCrTs46m8pNw+P2mP5Dkuf7ErNDCrsfFJ/WhJUHlgcMYiUfqoNdtPw7EQ/C7rq6EoyytUA=='},\n",
       "     'keyPub': {'type': 'ECP256K1',\n",
       "      'rawData': 'A7AOi95K1rfyo5tqawwc1chVVl3IXAu2ZxL3MYLGmWQ6'}}]},\n",
       "  'isCoinbase': False},\n",
       " {'_id': ObjectId('5ce2967685699a2c081d83bd'),\n",
       "  'transaction': {'id': {'type': 'SHA256',\n",
       "    'data': '84jnlinty7WczW136n9TJzq91YdtDng6AwHUtqhgt7Y='},\n",
       "   'inputs': [{'id': {'type': 'SHA256',\n",
       "      'data': 'TLpkCnH0MC5MaRz0dNkUdu7ZATCVbzFdbu3u8e9LOqg='},\n",
       "     'outputId': 0,\n",
       "     'signatureId': 0},\n",
       "    {'id': {'type': 'SHA256',\n",
       "      'data': 'RI3FHB4DK8RpWza9AucKVXTPlyaVF0lpx7S+e0k6Mbo='},\n",
       "     'outputId': 1,\n",
       "     'signatureId': 0}],\n",
       "   'outputs': [{'address': {'data': 'NHW276q4ZQvaDTDGWLvnrfrnVsUY18Esjm'},\n",
       "     'value': {'value': '458775'}},\n",
       "    {'address': {'data': 'N2DJgbU3v8tbbzaDdBEyn5fPnLZVzAFC6E'},\n",
       "     'value': {'value': '458775'}}],\n",
       "   'signatures': [{'signature': {'type': 'SHA256',\n",
       "      'data': '1eTQxiQzp/YPwDdzMdWZUd6PxKNzgfwMUGwzN+RneyLs3W3XpGvxsgO2D5ni1NAL18tSDxu12LYUSFFt2pcYiQ=='},\n",
       "     'keyPub': {'type': 'ECP256K1',\n",
       "      'rawData': 'A7AOi95K1rfyo5tqawwc1chVVl3IXAu2ZxL3MYLGmWQ6'}},\n",
       "    {'signature': {'type': 'SHA256',\n",
       "      'data': 'Bg9CMpleVg3ec/Q1oCrTs46m8pNw+P2mP5Dkuf7ErNDCrsfFJ/WhJUHlgcMYiUfqoNdtPw7EQ/C7rq6EoyytUA=='},\n",
       "     'keyPub': {'type': 'ECP256K1',\n",
       "      'rawData': 'A7AOi95K1rfyo5tqawwc1chVVl3IXAu2ZxL3MYLGmWQ6'}}]},\n",
       "  'isCoinbase': False,\n",
       "  'blockId': {'type': 'SHA256',\n",
       "   'data': 'iS0PjjozOpMm38rm7CxJLaUfGL/0Z6QBYeqVs7naPNI='}}]"
      ]
     },
     "execution_count": 7,
     "metadata": {},
     "output_type": "execute_result"
    }
   ],
   "source": [
    "Transactions.by_input(\"TLpkCnH0MC5MaRz0dNkUdu7ZATCVbzFdbu3u8e9LOqg=\", output_id=0)"
   ]
  },
  {
   "cell_type": "code",
   "execution_count": 22,
   "metadata": {
    "ExecuteTime": {
     "end_time": "2019-05-09T09:33:06.337354Z",
     "start_time": "2019-05-09T09:33:06.330807Z"
    }
   },
   "outputs": [
    {
     "data": {
      "text/plain": [
       "{'_id': ObjectId('5cc9969e85699a12a228294d'),\n",
       " 'block': {'header': {'id': {'type': 'SHA256',\n",
       "    'data': 'KhlcPujzAs58+e9LT/2XeNueJEbZEvT4efAAtnLD6Uk='},\n",
       "   'timestamp': {'data': 1556715166},\n",
       "   'previousBlockHash': {'type': 'SHA256',\n",
       "    'data': 'SWAo24vprvsuLKwkpuKHIlyfxB36QEPh0eUV1CnsGpA='},\n",
       "   'author': {'signature': {'type': 'SHA256',\n",
       "     'data': 'MQPzbioZt9p9ie0p43cq3/qMiVGaN54coHIPjqQnZ2nQHF/D5xlpQqn+B1F1cjhW6c1WYleHDDPQ7ChgsPB/9g=='},\n",
       "    'keyPub': {'type': 'ECP256K1',\n",
       "     'rawData': 'Awqh/GaK+zXAydO8h4sDf4apFNmW8SFaIqRqXioYDXy8'}},\n",
       "   'height': 382578}},\n",
       " 'branch': 'UNVERIFIED',\n",
       " 'branchPath': {'branchIds': [0], 'blockNumbers': [31]}}"
      ]
     },
     "execution_count": 22,
     "metadata": {},
     "output_type": "execute_result"
    }
   ],
   "source": [
    "Block(\"KhlcPujzAs58+e9LT/2XeNueJEbZEvT4efAAtnLD6Uk=\")"
   ]
  }
 ],
 "metadata": {
  "kernelspec": {
   "display_name": "Python 3",
   "language": "python",
   "name": "python3"
  },
  "language_info": {
   "codemirror_mode": {
    "name": "ipython",
    "version": 3
   },
   "file_extension": ".py",
   "mimetype": "text/x-python",
   "name": "python",
   "nbconvert_exporter": "python",
   "pygments_lexer": "ipython3",
   "version": "3.6.8"
  }
 },
 "nbformat": 4,
 "nbformat_minor": 2
}
