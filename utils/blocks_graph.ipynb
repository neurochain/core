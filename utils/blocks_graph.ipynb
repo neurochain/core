{
 "cells": [
  {
   "cell_type": "code",
   "execution_count": 125,
   "metadata": {
    "ExecuteTime": {
     "end_time": "2019-05-23T07:35:13.316026Z",
     "start_time": "2019-05-23T07:35:13.313357Z"
    }
   },
   "outputs": [],
   "source": [
    "from collections.abc import Iterable\n",
    "\n",
    "import pymongo\n",
    "from collections import Counter"
   ]
  },
  {
   "cell_type": "code",
   "execution_count": 126,
   "metadata": {
    "ExecuteTime": {
     "end_time": "2019-05-23T07:35:13.587374Z",
     "start_time": "2019-05-23T07:35:13.582576Z"
    }
   },
   "outputs": [],
   "source": [
    "c = pymongo.MongoClient()"
   ]
  },
  {
   "cell_type": "code",
   "execution_count": 127,
   "metadata": {
    "ExecuteTime": {
     "end_time": "2019-05-23T07:35:13.923382Z",
     "start_time": "2019-05-23T07:35:13.919139Z"
    }
   },
   "outputs": [],
   "source": [
    "db0 = c.neuro1337\n",
    "db1 = c.neuro1338\n",
    "db2 = c.neuro1339"
   ]
  },
  {
   "cell_type": "code",
   "execution_count": 128,
   "metadata": {
    "ExecuteTime": {
     "end_time": "2019-05-23T07:35:14.628438Z",
     "start_time": "2019-05-23T07:35:14.591025Z"
    }
   },
   "outputs": [],
   "source": [
    "class CoolDict(dict):\n",
    "    def __getattr__(self, name):\n",
    "        attr = self[name]\n",
    "        if type(attr) is dict:\n",
    "            return CoolDict(attr)\n",
    "        elif type(attr) is list:\n",
    "            return CoolList(attr)\n",
    "        return attr\n",
    "    \n",
    "    \n",
    "class CoolList(list):\n",
    "    def __getitem__(self, i):\n",
    "        item = super().__getitem__(i)\n",
    "        if type(item) is dict:\n",
    "            return CoolDict(item)\n",
    "        elif type(item) is list:\n",
    "            return CoolList(item)\n",
    "        return item\n",
    "\n",
    "    def __getattr__(self, name):\n",
    "        return CoolList(getattr(x, name) for x in self)\n",
    "\n",
    "\n",
    "class Block(CoolDict):\n",
    "    def __init__(self, arg, db=db0):\n",
    "        self.db = db\n",
    "        if type(arg) == dict:\n",
    "            super().__init__(arg)\n",
    "        elif type(arg) == str:\n",
    "            super().__init__(db.blocks.find_one({\"block.header.id.data\": arg}))\n",
    "        elif type(arg) == int:\n",
    "            super().__init__(db.blocks.find_one({\"block.header.height\": arg}))\n",
    "\n",
    "    @property\n",
    "    def previousAssembly(self):\n",
    "        return Assembly(self.previousAssemblyId.data, db=self.db)\n",
    "    \n",
    "    @property\n",
    "    def previousBlock(self):\n",
    "        return Block(self.block.header.previousBlockHash.data, db=self.db)\n",
    "\n",
    "    @property\n",
    "    def transactions(self):\n",
    "        result = []\n",
    "        for t in self.db.transactions.find(\n",
    "            {\"blockId.data\": self.block.header.id.data, \"isCoinbase\": False}\n",
    "        ):\n",
    "            result.append(Transaction(t))\n",
    "        return result\n",
    "\n",
    "    @property\n",
    "    def coinbase(self):\n",
    "        return Transaction(\n",
    "            self.db.transactions.find_one(\n",
    "                {\"blockId.data\": self.block.header.id.data, \"isCoinbase\": True}\n",
    "            )\n",
    "        )\n",
    "\n",
    "\n",
    "class Assembly(CoolDict):\n",
    "    def __init__(self, arg, db=db0):\n",
    "        self.db = db\n",
    "        if type(arg) == str:\n",
    "            super().__init__(db.assemblies.find_one({\"id.data\": arg}))\n",
    "        elif type(arg) == int:\n",
    "            super().__init__(db.assemblies.find_one({\"height\": arg}))\n",
    "\n",
    "    @property\n",
    "    def previousAssembly(self):\n",
    "        return Assembly(self.previousAssemblyId.data, db=self.db)\n",
    "\n",
    "\n",
    "class Transaction(CoolDict):\n",
    "    def __init__(self, arg, db=db0, pool=True):\n",
    "        self.db = db\n",
    "        if type(arg) == dict:\n",
    "            super().__init__(arg)\n",
    "        else:\n",
    "            query = {\"transaction.id.data\": arg}\n",
    "            if not pool:\n",
    "                query[\"blockId\"] = {\"$exists\": True}\n",
    "            super().__init__(db.transactions.find_one(query))\n",
    "\n",
    "    @property\n",
    "    def block(self):\n",
    "        return Block(self.blockId.data, db=self.db)\n",
    "\n",
    "\n",
    "\n",
    "\n",
    "class Transactions(CoolList):\n",
    "    def __init__(self, arg=None, db=db0, pool=True):\n",
    "        if type(arg) is str:\n",
    "            query = {\"transaction.id.data\": arg}\n",
    "            if not pool:\n",
    "                query[\"blockId\"] = {\"$exists\": True}\n",
    "        elif type(arg) is dict:\n",
    "            query = arg\n",
    "        else:\n",
    "            query = {}\n",
    "        transactions = (Transaction(t) for t in db.transactions.find(query))\n",
    "        super().__init__(transactions)\n",
    "\n",
    "    @classmethod\n",
    "    def by_input(cls, transaction_id, output_id, pool=True):\n",
    "        query = {\n",
    "            \"transaction.inputs\": {\n",
    "                \"$elemMatch\": {\n",
    "                    \"id.data\": transaction_id,\n",
    "                    \"outputId\": output_id,\n",
    "                }\n",
    "            }\n",
    "        }\n",
    "        if not pool:\n",
    "            query[\"blockId\"] = {\"$exists\": True}\n",
    "        return cls(query)\n",
    "\n",
    "\n",
    "class Blocks(CoolList):\n",
    "    def __init__(self, arg=None, db=db0):\n",
    "        self.db = db0\n",
    "        if isinstance(arg, Iterable):\n",
    "            super().__init__(arg)\n",
    "        else:\n",
    "            if type(arg) == str:\n",
    "                query = {\"block.header.id.data\": arg}\n",
    "            elif type(arg) == int:\n",
    "                query = {\"block.header.height\": arg}\n",
    "            elif type(arg) == dict:\n",
    "                query = arg\n",
    "            else:\n",
    "                query = {}\n",
    "            super().__init__([Block(b) for b in db.blocks.find(query)])\n",
    "    \n",
    "    @classmethod\n",
    "    def get_tip(cls, db=db0):\n",
    "        return Block(db.blocks.find().sort(\"score\", pymongo.DESCENDING).next())"
   ]
  },
  {
   "cell_type": "code",
   "execution_count": 129,
   "metadata": {
    "ExecuteTime": {
     "end_time": "2019-05-23T07:35:16.098207Z",
     "start_time": "2019-05-23T07:35:15.958111Z"
    }
   },
   "outputs": [
    {
     "data": {
      "text/plain": [
       "Counter({'Awqh/GaK+zXAydO8h4sDf4apFNmW8SFaIqRqXioYDXy8': 857,\n",
       "         'A+BPdJmNMRu7dZ0O4+b/jG5CyuLeI870VKYu0DrtJ8I8': 851,\n",
       "         'AyMKGnZhazXAoXb0SJIqi4Ho+lk6bw0UttE34PDtDbya': 963})"
      ]
     },
     "execution_count": 129,
     "metadata": {},
     "output_type": "execute_result"
    }
   ],
   "source": [
    "Counter(Blocks().block.header.author.keyPub.rawData)"
   ]
  },
  {
   "cell_type": "code",
   "execution_count": 104,
   "metadata": {
    "ExecuteTime": {
     "end_time": "2019-05-22T09:18:36.285086Z",
     "start_time": "2019-05-22T09:18:36.276482Z"
    }
   },
   "outputs": [
    {
     "data": {
      "text/plain": [
       "Counter({'Awqh/GaK+zXAydO8h4sDf4apFNmW8SFaIqRqXioYDXy8': 24,\n",
       "         'A+BPdJmNMRu7dZ0O4+b/jG5CyuLeI870VKYu0DrtJ8I8': 40,\n",
       "         'AyMKGnZhazXAoXb0SJIqi4Ho+lk6bw0UttE34PDtDbya': 14})"
      ]
     },
     "execution_count": 104,
     "metadata": {},
     "output_type": "execute_result"
    }
   ],
   "source": [
    "Counter(Blocks().block.header.author.keyPub.rawData)"
   ]
  },
  {
   "cell_type": "code",
   "execution_count": 39,
   "metadata": {
    "ExecuteTime": {
     "end_time": "2019-05-21T11:47:46.619897Z",
     "start_time": "2019-05-21T11:47:46.596724Z"
    }
   },
   "outputs": [],
   "source": [
    "blocks = Blocks(db=db1)"
   ]
  },
  {
   "cell_type": "code",
   "execution_count": 40,
   "metadata": {
    "ExecuteTime": {
     "end_time": "2019-05-21T11:47:47.841188Z",
     "start_time": "2019-05-21T11:47:47.829992Z"
    }
   },
   "outputs": [
    {
     "data": {
      "text/plain": [
       "[{'_id': ObjectId('5ce3caa085699a0e0674f7f4'),\n",
       "  'transaction': {'id': {'type': 'SHA256',\n",
       "    'data': '4ZyA+lb9gzh+GsIK8rqLqsI+AMt8Z9e6igt1X3ySdP8='},\n",
       "   'inputs': [{'id': {'type': 'SHA256',\n",
       "      'data': 'ytkY9Zvke2lE5nIBEKbpu2LG3XmOhqq5kHI7pZzHYWs='},\n",
       "     'outputId': 1,\n",
       "     'signatureId': 0},\n",
       "    {'id': {'type': 'SHA256',\n",
       "      'data': '/DcqvLxd0IABUfg7piyuoPqUBfb5+zrOxXvPvn8a1GM='},\n",
       "     'outputId': 0,\n",
       "     'signatureId': 0}],\n",
       "   'outputs': [{'address': {'data': 'NHW276q4ZQvaDTDGWLvnrfrnVsUY18Esjm'},\n",
       "     'value': {'value': '69512'}},\n",
       "    {'address': {'data': 'N2DJgbU3v8tbbzaDdBEyn5fPnLZVzAFC6E'},\n",
       "     'value': {'value': '69513'}}],\n",
       "   'signatures': [{'signature': {'type': 'SHA256',\n",
       "      'data': 'qraKPwecC58XB8XKQkBtG3OMgc+odm31krkXUp3RveySA7cS4qNGt+5AJvFaWaONEbHit2Wf/U7EPl7IhZ+V7w=='},\n",
       "     'keyPub': {'type': 'ECP256K1',\n",
       "      'rawData': 'A7mltdWsQ9Tf87NWXtnUQJOB91jafjVmwFCNQRV3rDxp'}},\n",
       "    {'signature': {'type': 'SHA256',\n",
       "      'data': 'r3sA9wrLeMeqdOmc+JHUwhAstMQDZleqq42jxUUzl6wWkJgBPNIAO13zgQBCAnqpOVK1yisiN2ACLvyxaOnZGQ=='},\n",
       "     'keyPub': {'type': 'ECP256K1',\n",
       "      'rawData': 'A7mltdWsQ9Tf87NWXtnUQJOB91jafjVmwFCNQRV3rDxp'}}]},\n",
       "  'isCoinbase': False,\n",
       "  'blockId': {'type': 'SHA256',\n",
       "   'data': 'kd7Bv9Rzq+Dxm3qUZddmqYHRC7Sfd7MVRb0YzKl7aMQ='}},\n",
       " {'_id': ObjectId('5ce3caa085699a0e0674f7f5'),\n",
       "  'transaction': {'id': {'type': 'SHA256',\n",
       "    'data': 'lZ8sO6wecTwLVPPeFc1qyxl5mjvA2My2Ncj7Dmho/+I='},\n",
       "   'inputs': [{'id': {'type': 'SHA256',\n",
       "      'data': '4ZyA+lb9gzh+GsIK8rqLqsI+AMt8Z9e6igt1X3ySdP8='},\n",
       "     'outputId': 1,\n",
       "     'signatureId': 0}],\n",
       "   'outputs': [{'address': {'data': 'NHW276q4ZQvaDTDGWLvnrfrnVsUY18Esjm'},\n",
       "     'value': {'value': '34756'}},\n",
       "    {'address': {'data': 'N2DJgbU3v8tbbzaDdBEyn5fPnLZVzAFC6E'},\n",
       "     'value': {'value': '34757'}}],\n",
       "   'signatures': [{'signature': {'type': 'SHA256',\n",
       "      'data': 'AGAjMhQGhPY9IIaVKxcrMZHybqtupXpgE2iFa7dv2zamVecAeTOVJnQ7ZIwmXoRyz2DphBz5WHxMdVh0QLItKg=='},\n",
       "     'keyPub': {'type': 'ECP256K1',\n",
       "      'rawData': 'A+879MwFCMI0gVbFQtZawUAAr2HeekL347SpobqglLYQ'}}]},\n",
       "  'isCoinbase': False,\n",
       "  'blockId': {'type': 'SHA256',\n",
       "   'data': 'kd7Bv9Rzq+Dxm3qUZddmqYHRC7Sfd7MVRb0YzKl7aMQ='}}]"
      ]
     },
     "execution_count": 40,
     "metadata": {},
     "output_type": "execute_result"
    }
   ],
   "source": [
    "blocks[10].transactions"
   ]
  },
  {
   "cell_type": "code",
   "execution_count": 207,
   "metadata": {
    "ExecuteTime": {
     "end_time": "2019-05-16T13:14:24.462718Z",
     "start_time": "2019-05-16T13:14:24.455395Z"
    }
   },
   "outputs": [
    {
     "data": {
      "text/plain": [
       "[{'_id': ObjectId('5cdd4d7985699a37350740fe'),\n",
       "  'transaction': {'id': {'type': 'SHA256',\n",
       "    'data': '+8YKoBO2WH48YIYy0Zlto0+ng1B2XCWDrww698TkBg0='},\n",
       "   'inputs': [{'id': {'type': 'SHA256',\n",
       "      'data': 'YRI/oYLChiXWY5r2TXmEZLbHPvjCONCCGScusb2ki88='},\n",
       "     'outputId': 1,\n",
       "     'signatureId': 0}],\n",
       "   'outputs': [{'address': {'data': 'N2DJgbU3v8tbbzaDdBEyn5fPnLZVzAFC6E'},\n",
       "     'value': {'value': '20150'}},\n",
       "    {'address': {'data': 'N3kfoQECGGnwsPp5uDqKJXoxjNRdpw8ML7'},\n",
       "     'value': {'value': '20150'}}],\n",
       "   'signatures': [{'signature': {'type': 'SHA256',\n",
       "      'data': 'aF4EAzq9P2dI0NkG0ymwuwbxVHKnwPYZ+uMSx4xNp1KJkcGx3C38oszbDshpvmBrpGggTW/O9KnjjDOtSK52ng=='},\n",
       "     'keyPub': {'type': 'ECP256K1',\n",
       "      'rawData': 'A/onLQq4MiXW88WcElvVwuglgo26edpKwnEGverU8qpL'}}]},\n",
       "  'isCoinbase': False,\n",
       "  'blockId': {'type': 'SHA256',\n",
       "   'data': 'qRmznA1gT236hM8PZq+IuB8xIdNA9ehRP1mvmx+TBYk='}}]"
      ]
     },
     "execution_count": 207,
     "metadata": {},
     "output_type": "execute_result"
    }
   ],
   "source": [
    "[t for t in blocks[10].transactions if t.transaction.signatures[0].signature.data.startswith(\"aF4\")]"
   ]
  },
  {
   "cell_type": "code",
   "execution_count": 50,
   "metadata": {
    "ExecuteTime": {
     "end_time": "2019-05-15T06:59:29.060873Z",
     "start_time": "2019-05-15T06:59:29.054592Z"
    }
   },
   "outputs": [
    {
     "data": {
      "text/plain": [
       "[]"
      ]
     },
     "execution_count": 50,
     "metadata": {},
     "output_type": "execute_result"
    }
   ],
   "source": [
    "[\n",
    "    (ob.get(\"branchPath\"), ob[\"block\"][\"header\"][\"height\"])\n",
    "    for ob in db2.blocks.find({\"branchPath.branchIds\": {\"$ne\": [0]}})\n",
    "]"
   ]
  },
  {
   "cell_type": "code",
   "execution_count": 51,
   "metadata": {
    "ExecuteTime": {
     "end_time": "2019-05-15T06:59:31.094267Z",
     "start_time": "2019-05-15T06:59:31.088788Z"
    }
   },
   "outputs": [
    {
     "data": {
      "text/plain": [
       "[]"
      ]
     },
     "execution_count": 51,
     "metadata": {},
     "output_type": "execute_result"
    }
   ],
   "source": [
    "[\n",
    "    (ob.get(\"branchPath\"), ob[\"block\"][\"header\"][\"height\"])\n",
    "    for ob in db0.blocks.find({\"branchPath.branchIds\": {\"$ne\": [0]}})\n",
    "]"
   ]
  },
  {
   "cell_type": "code",
   "execution_count": 52,
   "metadata": {
    "ExecuteTime": {
     "end_time": "2019-05-15T06:59:31.838979Z",
     "start_time": "2019-05-15T06:59:31.813991Z"
    }
   },
   "outputs": [],
   "source": [
    "heights = [\n",
    "    [ob[\"block\"][\"header\"][\"height\"] for ob in db.blocks.find()]\n",
    "    for db in (db0, db1, db2)\n",
    "]"
   ]
  },
  {
   "cell_type": "code",
   "execution_count": 53,
   "metadata": {
    "ExecuteTime": {
     "end_time": "2019-05-15T06:59:34.413529Z",
     "start_time": "2019-05-15T06:59:34.410868Z"
    }
   },
   "outputs": [],
   "source": [
    "h0 = set(heights[0])\n",
    "h1 = set(heights[1])\n",
    "h2 = set(heights[2])"
   ]
  },
  {
   "cell_type": "code",
   "execution_count": 56,
   "metadata": {
    "ExecuteTime": {
     "end_time": "2019-05-15T06:59:38.003418Z",
     "start_time": "2019-05-15T06:59:37.999736Z"
    }
   },
   "outputs": [
    {
     "name": "stdout",
     "output_type": "stream",
     "text": [
      "set() set()\n",
      "set() set()\n",
      "608721 290\n"
     ]
    }
   ],
   "source": [
    "print(h0 - h1, h1 - h0)\n",
    "print(h0 - h2, h2 - h0)\n",
    "print(max(h0), len(h0))"
   ]
  },
  {
   "cell_type": "code",
   "execution_count": 210,
   "metadata": {
    "ExecuteTime": {
     "end_time": "2019-05-16T13:33:54.837945Z",
     "start_time": "2019-05-16T13:33:54.832530Z"
    }
   },
   "outputs": [
    {
     "data": {
      "text/plain": [
       "[]"
      ]
     },
     "execution_count": 210,
     "metadata": {},
     "output_type": "execute_result"
    }
   ],
   "source": [
    "Transactions(\"WXKuOLzlIs8NmdTdf3CVbWFeXLugCl+iV2USK00zGDs=\").block.branchPath"
   ]
  },
  {
   "cell_type": "code",
   "execution_count": 127,
   "metadata": {
    "ExecuteTime": {
     "end_time": "2019-05-16T08:52:07.947094Z",
     "start_time": "2019-05-16T08:52:07.941899Z"
    }
   },
   "outputs": [
    {
     "data": {
      "text/plain": [
       "{'_id': ObjectId('5cdc0c3485699a1b8f49a9fe'),\n",
       " 'block': {'header': {'id': {'type': 'SHA256',\n",
       "    'data': '6Kp8smlbNZsqhkH7gVgKvE/CnZQhI7XfAkjfLB6501E='},\n",
       "   'timestamp': {'data': 1557924916},\n",
       "   'previousBlockHash': {'type': 'SHA256',\n",
       "    'data': '8vvhrXnrhobPqyorpo2u6d6bW41JackRcPsRXz3lrOw='},\n",
       "   'author': {'signature': {'type': 'SHA256',\n",
       "     'data': 'Vga//8WLii/hx9PwY0nw3eN1abViBLtm2ddtgWajS6iXWSpwEzG3i+08rqfJeEANAnGOHY4rgI/U+vO73bvFNg=='},\n",
       "    'keyPub': {'type': 'ECP256K1',\n",
       "     'rawData': 'AyMKGnZhazXAoXb0SJIqi4Ho+lk6bw0UttE34PDtDbya'}},\n",
       "   'height': 624528}},\n",
       " 'branch': 'UNVERIFIED',\n",
       " 'branchPath': {'branchIds': [1, 0], 'blockNumbers': [255, 0]}}"
      ]
     },
     "execution_count": 127,
     "metadata": {},
     "output_type": "execute_result"
    }
   ],
   "source": [
    "Block(\"6Kp8smlbNZsqhkH7gVgKvE/CnZQhI7XfAkjfLB6501E=\")"
   ]
  },
  {
   "cell_type": "code",
   "execution_count": null,
   "metadata": {},
   "outputs": [],
   "source": []
  },
  {
   "cell_type": "code",
   "execution_count": 38,
   "metadata": {
    "ExecuteTime": {
     "end_time": "2019-05-14T12:46:26.940484Z",
     "start_time": "2019-05-14T12:46:26.934759Z"
    }
   },
   "outputs": [
    {
     "data": {
      "text/plain": [
       "[{'branchIds': [0], 'blockNumbers': [5]}]"
      ]
     },
     "execution_count": 38,
     "metadata": {},
     "output_type": "execute_result"
    }
   ],
   "source": [
    "Transactions(\"0eLNKWSfT51YkpVC6CZRWY9BOX2AUZIZseQxvFssCWs=\", db=db1, pool=False).block.branchPath"
   ]
  },
  {
   "cell_type": "code",
   "execution_count": 147,
   "metadata": {
    "ExecuteTime": {
     "end_time": "2019-05-16T12:59:26.854566Z",
     "start_time": "2019-05-16T12:59:26.848172Z"
    }
   },
   "outputs": [
    {
     "data": {
      "text/plain": [
       "[{'branchIds': [0], 'blockNumbers': [274]}]"
      ]
     },
     "execution_count": 147,
     "metadata": {},
     "output_type": "execute_result"
    }
   ],
   "source": [
    "Transactions(\"Bpgw/tkmuJFEYIqY7EYnfGpRCPa2uh3YAWRQiKplqPY=\").block.branchPath"
   ]
  },
  {
   "cell_type": "code",
   "execution_count": 98,
   "metadata": {
    "ExecuteTime": {
     "end_time": "2019-05-21T15:06:37.949029Z",
     "start_time": "2019-05-21T15:06:37.938183Z"
    }
   },
   "outputs": [
    {
     "data": {
      "text/plain": [
       "[{'_id': ObjectId('5ce412b285699a0ee568a07e'),\n",
       "  'transaction': {'id': {'type': 'SHA256',\n",
       "    'data': '9WDXjvIpuslIg8Iz5QMWJunPJNVpGDhxfLq/B7ORK48='},\n",
       "   'inputs': [{'id': {'type': 'SHA256',\n",
       "      'data': '+YVQHU/6XaJlPzBJZbbGRqT71HVfJmHtkFnTtc1c+iM='},\n",
       "     'outputId': 1,\n",
       "     'signatureId': 0},\n",
       "    {'id': {'type': 'SHA256',\n",
       "      'data': 'njxTwrxbnM0ijNCy996/Mr9u29WFv70vUQDqGW/VyJo='},\n",
       "     'outputId': 0,\n",
       "     'signatureId': 0},\n",
       "    {'id': {'type': 'SHA256',\n",
       "      'data': 'OJiEsehwGfnAVH8N4xKaoDtLiCLc+Rq2QlC0sgHRu20='},\n",
       "     'outputId': 0,\n",
       "     'signatureId': 0},\n",
       "    {'id': {'type': 'SHA256',\n",
       "      'data': 'phFHCnfT0Re92PFaqAjcxjUYoSWbFMc/AMaXeQIZbX4='},\n",
       "     'outputId': 1,\n",
       "     'signatureId': 0}],\n",
       "   'outputs': [{'address': {'data': 'NHW276q4ZQvaDTDGWLvnrfrnVsUY18Esjm'},\n",
       "     'value': {'value': '495759'}},\n",
       "    {'address': {'data': 'N3kfoQECGGnwsPp5uDqKJXoxjNRdpw8ML7'},\n",
       "     'value': {'value': '495760'}}],\n",
       "   'signatures': [{'signature': {'type': 'SHA256',\n",
       "      'data': 'Wdr16sp13P65CcLJpUxvU+3DUo25qXIgxV2FR/xgfhKkXTdZtP4Eua1EE6FtiuXIi91UzAw0wMav1El+3vxQRQ=='},\n",
       "     'keyPub': {'type': 'ECP256K1',\n",
       "      'rawData': 'A9IaE0lo+N/kK1c4xbn5Gwuvhh0jYuY0h/qYV6+YCTCT'}},\n",
       "    {'signature': {'type': 'SHA256',\n",
       "      'data': 'sjjj5W1dwPGRXaJ7DnfmXOaEVOG/85Oz84yxCLQ2KrCDHh74s693QbXCQNdokvEk65PXg2P+PbWAo3rOrA9Bfg=='},\n",
       "     'keyPub': {'type': 'ECP256K1',\n",
       "      'rawData': 'A9IaE0lo+N/kK1c4xbn5Gwuvhh0jYuY0h/qYV6+YCTCT'}},\n",
       "    {'signature': {'type': 'SHA256',\n",
       "      'data': 'AJ5NYUDLdORcvoLoOooXIi8P+zwQvyfJr0YNbNq+iB4uYP4KRuE0guHGsuwsdhAr40uGxcy1SUdjz7h2e92Grw=='},\n",
       "     'keyPub': {'type': 'ECP256K1',\n",
       "      'rawData': 'A9IaE0lo+N/kK1c4xbn5Gwuvhh0jYuY0h/qYV6+YCTCT'}},\n",
       "    {'signature': {'type': 'SHA256',\n",
       "      'data': '/nQBer7FSsauqJjumXPdU6o2NoR7dDikD9eQ+ITm61swSugZcldUCpDT7uSY+0lplRVy90UTGzHtX3NX5ulsQg=='},\n",
       "     'keyPub': {'type': 'ECP256K1',\n",
       "      'rawData': 'A9IaE0lo+N/kK1c4xbn5Gwuvhh0jYuY0h/qYV6+YCTCT'}}]},\n",
       "  'isCoinbase': False,\n",
       "  'blockId': {'type': 'SHA256',\n",
       "   'data': 'QZJAgx/cJLHv++SMp6xc7vheGYJNfTFJy6muRGFbk3M='}},\n",
       " {'_id': ObjectId('5ce412a885699a0ee568a05d'),\n",
       "  'transaction': {'id': {'type': 'SHA256',\n",
       "    'data': 'b696dDxemdB4D+25U2H7HKdwbMJKFR3mSqxnqxzhIPQ='},\n",
       "   'inputs': [{'id': {'type': 'SHA256',\n",
       "      'data': 'ednr14iCalmnXt8jov70nyDSlAL+JpYttvPQ7UFFoaM='},\n",
       "     'outputId': 0,\n",
       "     'signatureId': 0},\n",
       "    {'id': {'type': 'SHA256',\n",
       "      'data': '+YVQHU/6XaJlPzBJZbbGRqT71HVfJmHtkFnTtc1c+iM='},\n",
       "     'outputId': 1,\n",
       "     'signatureId': 0}],\n",
       "   'outputs': [{'address': {'data': 'N2DJgbU3v8tbbzaDdBEyn5fPnLZVzAFC6E'},\n",
       "     'value': {'value': '268902'}},\n",
       "    {'address': {'data': 'N3kfoQECGGnwsPp5uDqKJXoxjNRdpw8ML7'},\n",
       "     'value': {'value': '268902'}}],\n",
       "   'signatures': [{'signature': {'type': 'SHA256',\n",
       "      'data': 'dtZqquehlGCJ2gq19R3GZJRAfmnHukPTgOMCII9tecrCTxLco+zVxruuGYehh7+6CUUa2eU6MNIJiqFrS1J2gQ=='},\n",
       "     'keyPub': {'type': 'ECP256K1',\n",
       "      'rawData': 'AlkQrkUThR4hPKIboNLVhIYzYlKi51SClAAvhXTlOCs0'}},\n",
       "    {'signature': {'type': 'SHA256',\n",
       "      'data': 'y5OIDjkmxMoL+ffYdaQO7axzMVUamJdXR9w7l4TMeLDlT2w0cc5MSmsqrq3v6coUBwHP5UPwkOn904rnU3ki4A=='},\n",
       "     'keyPub': {'type': 'ECP256K1',\n",
       "      'rawData': 'AlkQrkUThR4hPKIboNLVhIYzYlKi51SClAAvhXTlOCs0'}}]},\n",
       "  'isCoinbase': False,\n",
       "  'blockId': {'type': 'SHA256',\n",
       "   'data': 'k526beMe17fa5LIkRIbmT7sruDx1Q8U2dqj33Pu1F7o='}}]"
      ]
     },
     "execution_count": 98,
     "metadata": {},
     "output_type": "execute_result"
    }
   ],
   "source": [
    "Transactions.by_input(transaction_id=\"+YVQHU/6XaJlPzBJZbbGRqT71HVfJmHtkFnTtc1c+iM=\", output_id=1, pool=False)"
   ]
  },
  {
   "cell_type": "code",
   "execution_count": 7,
   "metadata": {
    "ExecuteTime": {
     "end_time": "2019-05-20T13:48:53.156334Z",
     "start_time": "2019-05-20T13:48:53.147360Z"
    }
   },
   "outputs": [
    {
     "data": {
      "text/plain": [
       "[{'_id': ObjectId('5ce2966e85699a2c081d83b7'),\n",
       "  'transaction': {'id': {'type': 'SHA256',\n",
       "    'data': '84jnlinty7WczW136n9TJzq91YdtDng6AwHUtqhgt7Y='},\n",
       "   'inputs': [{'id': {'type': 'SHA256',\n",
       "      'data': 'TLpkCnH0MC5MaRz0dNkUdu7ZATCVbzFdbu3u8e9LOqg='},\n",
       "     'outputId': 0,\n",
       "     'signatureId': 0},\n",
       "    {'id': {'type': 'SHA256',\n",
       "      'data': 'RI3FHB4DK8RpWza9AucKVXTPlyaVF0lpx7S+e0k6Mbo='},\n",
       "     'outputId': 1,\n",
       "     'signatureId': 0}],\n",
       "   'outputs': [{'address': {'data': 'NHW276q4ZQvaDTDGWLvnrfrnVsUY18Esjm'},\n",
       "     'value': {'value': '458775'}},\n",
       "    {'address': {'data': 'N2DJgbU3v8tbbzaDdBEyn5fPnLZVzAFC6E'},\n",
       "     'value': {'value': '458775'}}],\n",
       "   'signatures': [{'signature': {'type': 'SHA256',\n",
       "      'data': '1eTQxiQzp/YPwDdzMdWZUd6PxKNzgfwMUGwzN+RneyLs3W3XpGvxsgO2D5ni1NAL18tSDxu12LYUSFFt2pcYiQ=='},\n",
       "     'keyPub': {'type': 'ECP256K1',\n",
       "      'rawData': 'A7AOi95K1rfyo5tqawwc1chVVl3IXAu2ZxL3MYLGmWQ6'}},\n",
       "    {'signature': {'type': 'SHA256',\n",
       "      'data': 'Bg9CMpleVg3ec/Q1oCrTs46m8pNw+P2mP5Dkuf7ErNDCrsfFJ/WhJUHlgcMYiUfqoNdtPw7EQ/C7rq6EoyytUA=='},\n",
       "     'keyPub': {'type': 'ECP256K1',\n",
       "      'rawData': 'A7AOi95K1rfyo5tqawwc1chVVl3IXAu2ZxL3MYLGmWQ6'}}]},\n",
       "  'isCoinbase': False},\n",
       " {'_id': ObjectId('5ce2967685699a2c081d83bd'),\n",
       "  'transaction': {'id': {'type': 'SHA256',\n",
       "    'data': '84jnlinty7WczW136n9TJzq91YdtDng6AwHUtqhgt7Y='},\n",
       "   'inputs': [{'id': {'type': 'SHA256',\n",
       "      'data': 'TLpkCnH0MC5MaRz0dNkUdu7ZATCVbzFdbu3u8e9LOqg='},\n",
       "     'outputId': 0,\n",
       "     'signatureId': 0},\n",
       "    {'id': {'type': 'SHA256',\n",
       "      'data': 'RI3FHB4DK8RpWza9AucKVXTPlyaVF0lpx7S+e0k6Mbo='},\n",
       "     'outputId': 1,\n",
       "     'signatureId': 0}],\n",
       "   'outputs': [{'address': {'data': 'NHW276q4ZQvaDTDGWLvnrfrnVsUY18Esjm'},\n",
       "     'value': {'value': '458775'}},\n",
       "    {'address': {'data': 'N2DJgbU3v8tbbzaDdBEyn5fPnLZVzAFC6E'},\n",
       "     'value': {'value': '458775'}}],\n",
       "   'signatures': [{'signature': {'type': 'SHA256',\n",
       "      'data': '1eTQxiQzp/YPwDdzMdWZUd6PxKNzgfwMUGwzN+RneyLs3W3XpGvxsgO2D5ni1NAL18tSDxu12LYUSFFt2pcYiQ=='},\n",
       "     'keyPub': {'type': 'ECP256K1',\n",
       "      'rawData': 'A7AOi95K1rfyo5tqawwc1chVVl3IXAu2ZxL3MYLGmWQ6'}},\n",
       "    {'signature': {'type': 'SHA256',\n",
       "      'data': 'Bg9CMpleVg3ec/Q1oCrTs46m8pNw+P2mP5Dkuf7ErNDCrsfFJ/WhJUHlgcMYiUfqoNdtPw7EQ/C7rq6EoyytUA=='},\n",
       "     'keyPub': {'type': 'ECP256K1',\n",
       "      'rawData': 'A7AOi95K1rfyo5tqawwc1chVVl3IXAu2ZxL3MYLGmWQ6'}}]},\n",
       "  'isCoinbase': False,\n",
       "  'blockId': {'type': 'SHA256',\n",
       "   'data': 'iS0PjjozOpMm38rm7CxJLaUfGL/0Z6QBYeqVs7naPNI='}}]"
      ]
     },
     "execution_count": 7,
     "metadata": {},
     "output_type": "execute_result"
    }
   ],
   "source": [
    "Transactions.by_input(\"TLpkCnH0MC5MaRz0dNkUdu7ZATCVbzFdbu3u8e9LOqg=\", output_id=0)"
   ]
  },
  {
   "cell_type": "code",
   "execution_count": 22,
   "metadata": {
    "ExecuteTime": {
     "end_time": "2019-05-09T09:33:06.337354Z",
     "start_time": "2019-05-09T09:33:06.330807Z"
    }
   },
   "outputs": [
    {
     "data": {
      "text/plain": [
       "{'_id': ObjectId('5cc9969e85699a12a228294d'),\n",
       " 'block': {'header': {'id': {'type': 'SHA256',\n",
       "    'data': 'KhlcPujzAs58+e9LT/2XeNueJEbZEvT4efAAtnLD6Uk='},\n",
       "   'timestamp': {'data': 1556715166},\n",
       "   'previousBlockHash': {'type': 'SHA256',\n",
       "    'data': 'SWAo24vprvsuLKwkpuKHIlyfxB36QEPh0eUV1CnsGpA='},\n",
       "   'author': {'signature': {'type': 'SHA256',\n",
       "     'data': 'MQPzbioZt9p9ie0p43cq3/qMiVGaN54coHIPjqQnZ2nQHF/D5xlpQqn+B1F1cjhW6c1WYleHDDPQ7ChgsPB/9g=='},\n",
       "    'keyPub': {'type': 'ECP256K1',\n",
       "     'rawData': 'Awqh/GaK+zXAydO8h4sDf4apFNmW8SFaIqRqXioYDXy8'}},\n",
       "   'height': 382578}},\n",
       " 'branch': 'UNVERIFIED',\n",
       " 'branchPath': {'branchIds': [0], 'blockNumbers': [31]}}"
      ]
     },
     "execution_count": 22,
     "metadata": {},
     "output_type": "execute_result"
    }
   ],
   "source": [
    "Block(\"KhlcPujzAs58+e9LT/2XeNueJEbZEvT4efAAtnLD6Uk=\")"
   ]
  }
 ],
 "metadata": {
  "kernelspec": {
   "display_name": "Python 3",
   "language": "python",
   "name": "python3"
  },
  "language_info": {
   "codemirror_mode": {
    "name": "ipython",
    "version": 3
   },
   "file_extension": ".py",
   "mimetype": "text/x-python",
   "name": "python",
   "nbconvert_exporter": "python",
   "pygments_lexer": "ipython3",
   "version": "3.6.8"
  }
 },
 "nbformat": 4,
 "nbformat_minor": 2
}
