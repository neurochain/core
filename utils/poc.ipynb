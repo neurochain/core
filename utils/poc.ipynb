{
 "cells": [
  {
   "cell_type": "code",
   "execution_count": 2,
   "metadata": {
    "ExecuteTime": {
     "end_time": "2019-07-12T12:08:41.555981Z",
     "start_time": "2019-07-12T12:08:41.507598Z"
    }
   },
   "outputs": [],
   "source": [
    "from random import random\n",
    "from pprint import pprint\n",
    "\n",
    "import pymongo"
   ]
  },
  {
   "cell_type": "code",
   "execution_count": 3,
   "metadata": {
    "ExecuteTime": {
     "end_time": "2019-07-12T12:08:41.735969Z",
     "start_time": "2019-07-12T12:08:41.730612Z"
    }
   },
   "outputs": [],
   "source": [
    "c = pymongo.MongoClient()\n",
    "db = c.db"
   ]
  },
  {
   "cell_type": "code",
   "execution_count": 4,
   "metadata": {
    "ExecuteTime": {
     "end_time": "2019-07-12T12:08:55.301567Z",
     "start_time": "2019-07-12T12:08:42.013857Z"
    }
   },
   "outputs": [],
   "source": [
    "nb_blocks = 200000\n",
    "\n",
    "def new_block(branch_ids, block_numbers):\n",
    "    block = {\"branchPath\" : {\n",
    "                            \"branchId\": branch_ids[0],\n",
    "                            \"blockNumber\": block_numbers[0],\n",
    "                            \"branchIds\" : branch_ids, \n",
    "                            \"blockNumbers\" : block_numbers},\n",
    "             \"balances\": []} \n",
    "    for i in [0, 3, 6]:\n",
    "        if i in branch_ids[1:]:\n",
    "            continue\n",
    "        if random() < 0.3:\n",
    "            block[\"balances\"].append({\"address\": i, \"amount\": 10})\n",
    "    return block\n",
    "\n",
    "def generate_blocks(n):\n",
    "    db.drop_collection('blocks')\n",
    "    db.blocks.create_index([(\"balances.address\", -1), (\"branchPath.branchId\", -1), (\"branchPath.blockNumber\", -1)])\n",
    "    db.blocks.insert_many(new_block([0], [i]) for i in range(n))\n",
    "    db.blocks.insert_many(new_block([3, 0], [i, n - 1]) for i in range(n))\n",
    "    db.blocks.insert_many(new_block([6, 3, 0], [i, n - 1]) for i in range(n))\n",
    "\n",
    "generate_blocks(nb_blocks)"
   ]
  },
  {
   "cell_type": "code",
   "execution_count": 9,
   "metadata": {
    "ExecuteTime": {
     "end_time": "2019-07-12T12:10:42.942629Z",
     "start_time": "2019-07-12T12:10:42.912576Z"
    }
   },
   "outputs": [
    {
     "name": "stdout",
     "output_type": "stream",
     "text": [
      "{'$or': [{'balances': {'$elemMatch': {'address': 3}},\n",
      "          'branchPath.blockNumber': {'$lte': 623},\n",
      "          'branchPath.branchId': 6},\n",
      "         {'balances': {'$elemMatch': {'address': 3}},\n",
      "          'branchPath.blockNumber': {'$lte': 19721},\n",
      "          'branchPath.branchId': 3},\n",
      "         {'balances': {'$elemMatch': {'address': 3}},\n",
      "          'branchPath.blockNumber': {'$lte': 199999},\n",
      "          'branchPath.branchId': 0}]}\n"
     ]
    },
    {
     "data": {
      "text/plain": [
       "{'_id': ObjectId('5d28784e39e3419d0d4b61e3'),\n",
       " 'branchPath': {'branchId': 3,\n",
       "  'blockNumber': 19719,\n",
       "  'branchIds': [3, 0],\n",
       "  'blockNumbers': [19719, 199999]},\n",
       " 'balances': [{'address': 3, 'amount': 10}, {'address': 6, 'amount': 10}]}"
      ]
     },
     "execution_count": 9,
     "metadata": {},
     "output_type": "execute_result"
    }
   ],
   "source": [
    "def find_balance(address, branch_path):\n",
    "    query = {\"$or\": [\n",
    "        {\n",
    "            \"balances\": {\"$elemMatch\": {\"address\": address}}, \n",
    "            \"branchPath.branchId\": branch_id, \n",
    "            \"branchPath.blockNumber\": {\"$lte\": block_number}\n",
    "        }\n",
    "        for branch_id, block_number in zip(branch_path[\"branchIds\"], branch_path[\"blockNumbers\"])\n",
    "    ]}\n",
    "    pprint(query)\n",
    "    return db.blocks.find_one(\n",
    "        query, \n",
    "        sort=[(\"branchPath.branchId\", -1), (\"branchPath.blockNumber\", -1)]\n",
    "    )\n",
    "    \n",
    "find_balance(3, {\"branchIds\": [6, 3, 0], \"blockNumbers\": [623, 19721, nb_blocks - 1]})"
   ]
  },
  {
   "cell_type": "code",
   "execution_count": null,
   "metadata": {},
   "outputs": [],
   "source": []
  }
 ],
 "metadata": {
  "kernelspec": {
   "display_name": "Python 3",
   "language": "python",
   "name": "python3"
  },
  "language_info": {
   "codemirror_mode": {
    "name": "ipython",
    "version": 3
   },
   "file_extension": ".py",
   "mimetype": "text/x-python",
   "name": "python",
   "nbconvert_exporter": "python",
   "pygments_lexer": "ipython3",
   "version": "3.7.3"
  }
 },
 "nbformat": 4,
 "nbformat_minor": 2
}
